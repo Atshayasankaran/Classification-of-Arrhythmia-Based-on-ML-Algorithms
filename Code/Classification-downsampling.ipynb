{
 "cells": [
  {
   "cell_type": "code",
   "execution_count": 1,
   "id": "7371abbe",
   "metadata": {
    "_cell_guid": "b1076dfc-b9ad-4769-8c92-a6c4dae69d19",
    "_uuid": "8f2839f25d086af736a60e9eeb907d3b93b6e0e5",
    "execution": {
     "iopub.execute_input": "2021-10-21T05:54:08.753295Z",
     "iopub.status.busy": "2021-10-21T05:54:08.752574Z",
     "iopub.status.idle": "2021-10-21T05:54:08.773001Z",
     "shell.execute_reply": "2021-10-21T05:54:08.772014Z",
     "shell.execute_reply.started": "2021-10-21T05:14:32.020907Z"
    },
    "papermill": {
     "duration": 0.066075,
     "end_time": "2021-10-21T05:54:08.773239",
     "exception": false,
     "start_time": "2021-10-21T05:54:08.707164",
     "status": "completed"
    },
    "tags": []
   },
   "outputs": [
    {
     "name": "stdout",
     "output_type": "stream",
     "text": [
      "/kaggle/input/heartbeat/ptbdb_abnormal.csv\n",
      "/kaggle/input/heartbeat/ptbdb_normal.csv\n",
      "/kaggle/input/heartbeat/mitbih_test.csv\n",
      "/kaggle/input/heartbeat/mitbih_train.csv\n"
     ]
    }
   ],
   "source": [
    "# This Python 3 environment comes with many helpful analytics libraries installed\n",
    "# It is defined by the kaggle/python Docker image: https://github.com/kaggle/docker-python\n",
    "# For example, here's several helpful packages to load\n",
    "\n",
    "import numpy as np # linear algebra\n",
    "import pandas as pd # data processing, CSV file I/O (e.g. pd.read_csv)\n",
    "\n",
    "# Input data files are available in the read-only \"../input/\" directory\n",
    "# For example, running this (by clicking run or pressing Shift+Enter) will list all files under the input directory\n",
    "\n",
    "import os\n",
    "for dirname, _, filenames in os.walk('/kaggle/input'):\n",
    "    for filename in filenames:\n",
    "        print(os.path.join(dirname, filename))\n",
    "\n",
    "# You can write up to 20GB to the current directory (/kaggle/working/) that gets preserved as output when you create a version using \"Save & Run All\" \n",
    "# You can also write temporary files to /kaggle/temp/, but they won't be saved outside of the current session"
   ]
  },
  {
   "cell_type": "code",
   "execution_count": 2,
   "id": "95ef268d",
   "metadata": {
    "execution": {
     "iopub.execute_input": "2021-10-21T05:54:08.852110Z",
     "iopub.status.busy": "2021-10-21T05:54:08.851466Z",
     "iopub.status.idle": "2021-10-21T05:54:14.415581Z",
     "shell.execute_reply": "2021-10-21T05:54:14.414984Z",
     "shell.execute_reply.started": "2021-10-21T05:14:35.508879Z"
    },
    "papermill": {
     "duration": 5.603159,
     "end_time": "2021-10-21T05:54:14.415729",
     "exception": false,
     "start_time": "2021-10-21T05:54:08.812570",
     "status": "completed"
    },
    "tags": []
   },
   "outputs": [
    {
     "name": "stderr",
     "output_type": "stream",
     "text": [
      "2021-10-21 05:54:10.277674: W tensorflow/stream_executor/platform/default/dso_loader.cc:60] Could not load dynamic library 'libcudart.so.11.0'; dlerror: libcudart.so.11.0: cannot open shared object file: No such file or directory; LD_LIBRARY_PATH: /opt/conda/lib\n",
      "2021-10-21 05:54:10.277801: I tensorflow/stream_executor/cuda/cudart_stub.cc:29] Ignore above cudart dlerror if you do not have a GPU set up on your machine.\n"
     ]
    }
   ],
   "source": [
    "import numpy as np\n",
    "import pandas as pd\n",
    "from sklearn.model_selection import train_test_split\n",
    "import matplotlib.pyplot as plt\n",
    "import tensorflow as tf"
   ]
  },
  {
   "cell_type": "code",
   "execution_count": 3,
   "id": "acbd2ebc",
   "metadata": {
    "execution": {
     "iopub.execute_input": "2021-10-21T05:54:14.492198Z",
     "iopub.status.busy": "2021-10-21T05:54:14.491520Z",
     "iopub.status.idle": "2021-10-21T05:54:24.425197Z",
     "shell.execute_reply": "2021-10-21T05:54:24.424575Z",
     "shell.execute_reply.started": "2021-10-21T05:14:42.190316Z"
    },
    "papermill": {
     "duration": 9.972868,
     "end_time": "2021-10-21T05:54:24.425348",
     "exception": false,
     "start_time": "2021-10-21T05:54:14.452480",
     "status": "completed"
    },
    "tags": []
   },
   "outputs": [],
   "source": [
    "dfs = [pd.read_csv('../input/heartbeat/mitbih_train.csv'),pd.read_csv('../input/heartbeat/mitbih_test.csv')]"
   ]
  },
  {
   "cell_type": "code",
   "execution_count": 4,
   "id": "83053ca1",
   "metadata": {
    "execution": {
     "iopub.execute_input": "2021-10-21T05:54:24.502578Z",
     "iopub.status.busy": "2021-10-21T05:54:24.501941Z",
     "iopub.status.idle": "2021-10-21T05:54:24.550557Z",
     "shell.execute_reply": "2021-10-21T05:54:24.551073Z",
     "shell.execute_reply.started": "2021-10-21T05:14:54.539617Z"
    },
    "papermill": {
     "duration": 0.089268,
     "end_time": "2021-10-21T05:54:24.551245",
     "exception": false,
     "start_time": "2021-10-21T05:54:24.461977",
     "status": "completed"
    },
    "tags": []
   },
   "outputs": [
    {
     "data": {
      "text/html": [
       "<div>\n",
       "<style scoped>\n",
       "    .dataframe tbody tr th:only-of-type {\n",
       "        vertical-align: middle;\n",
       "    }\n",
       "\n",
       "    .dataframe tbody tr th {\n",
       "        vertical-align: top;\n",
       "    }\n",
       "\n",
       "    .dataframe thead th {\n",
       "        text-align: right;\n",
       "    }\n",
       "</style>\n",
       "<table border=\"1\" class=\"dataframe\">\n",
       "  <thead>\n",
       "    <tr style=\"text-align: right;\">\n",
       "      <th></th>\n",
       "      <th>1.000000000000000000e+00</th>\n",
       "      <th>7.582644820213317871e-01</th>\n",
       "      <th>1.115702465176582336e-01</th>\n",
       "      <th>0.000000000000000000e+00</th>\n",
       "      <th>8.057851344347000122e-02</th>\n",
       "      <th>7.851240038871765137e-02</th>\n",
       "      <th>6.611569970846176147e-02</th>\n",
       "      <th>4.958677664399147034e-02</th>\n",
       "      <th>4.752065986394882202e-02</th>\n",
       "      <th>3.512396663427352905e-02</th>\n",
       "      <th>...</th>\n",
       "      <th>0.000000000000000000e+00.56</th>\n",
       "      <th>0.000000000000000000e+00.57</th>\n",
       "      <th>0.000000000000000000e+00.58</th>\n",
       "      <th>0.000000000000000000e+00.59</th>\n",
       "      <th>0.000000000000000000e+00.60</th>\n",
       "      <th>0.000000000000000000e+00.61</th>\n",
       "      <th>0.000000000000000000e+00.62</th>\n",
       "      <th>0.000000000000000000e+00.63</th>\n",
       "      <th>0.000000000000000000e+00.64</th>\n",
       "      <th>0.000000000000000000e+00.65</th>\n",
       "    </tr>\n",
       "  </thead>\n",
       "  <tbody>\n",
       "    <tr>\n",
       "      <th>0</th>\n",
       "      <td>0.908425</td>\n",
       "      <td>0.783883</td>\n",
       "      <td>0.531136</td>\n",
       "      <td>0.362637</td>\n",
       "      <td>0.366300</td>\n",
       "      <td>0.344322</td>\n",
       "      <td>0.333333</td>\n",
       "      <td>0.307692</td>\n",
       "      <td>0.296703</td>\n",
       "      <td>0.300366</td>\n",
       "      <td>...</td>\n",
       "      <td>0.0</td>\n",
       "      <td>0.0</td>\n",
       "      <td>0.0</td>\n",
       "      <td>0.0</td>\n",
       "      <td>0.0</td>\n",
       "      <td>0.0</td>\n",
       "      <td>0.0</td>\n",
       "      <td>0.0</td>\n",
       "      <td>0.0</td>\n",
       "      <td>0.0</td>\n",
       "    </tr>\n",
       "    <tr>\n",
       "      <th>1</th>\n",
       "      <td>0.730088</td>\n",
       "      <td>0.212389</td>\n",
       "      <td>0.000000</td>\n",
       "      <td>0.119469</td>\n",
       "      <td>0.101770</td>\n",
       "      <td>0.101770</td>\n",
       "      <td>0.110619</td>\n",
       "      <td>0.123894</td>\n",
       "      <td>0.115044</td>\n",
       "      <td>0.132743</td>\n",
       "      <td>...</td>\n",
       "      <td>0.0</td>\n",
       "      <td>0.0</td>\n",
       "      <td>0.0</td>\n",
       "      <td>0.0</td>\n",
       "      <td>0.0</td>\n",
       "      <td>0.0</td>\n",
       "      <td>0.0</td>\n",
       "      <td>0.0</td>\n",
       "      <td>0.0</td>\n",
       "      <td>0.0</td>\n",
       "    </tr>\n",
       "    <tr>\n",
       "      <th>2</th>\n",
       "      <td>1.000000</td>\n",
       "      <td>0.910417</td>\n",
       "      <td>0.681250</td>\n",
       "      <td>0.472917</td>\n",
       "      <td>0.229167</td>\n",
       "      <td>0.068750</td>\n",
       "      <td>0.000000</td>\n",
       "      <td>0.004167</td>\n",
       "      <td>0.014583</td>\n",
       "      <td>0.054167</td>\n",
       "      <td>...</td>\n",
       "      <td>0.0</td>\n",
       "      <td>0.0</td>\n",
       "      <td>0.0</td>\n",
       "      <td>0.0</td>\n",
       "      <td>0.0</td>\n",
       "      <td>0.0</td>\n",
       "      <td>0.0</td>\n",
       "      <td>0.0</td>\n",
       "      <td>0.0</td>\n",
       "      <td>0.0</td>\n",
       "    </tr>\n",
       "    <tr>\n",
       "      <th>3</th>\n",
       "      <td>0.570470</td>\n",
       "      <td>0.399329</td>\n",
       "      <td>0.238255</td>\n",
       "      <td>0.147651</td>\n",
       "      <td>0.000000</td>\n",
       "      <td>0.003356</td>\n",
       "      <td>0.040268</td>\n",
       "      <td>0.080537</td>\n",
       "      <td>0.070470</td>\n",
       "      <td>0.090604</td>\n",
       "      <td>...</td>\n",
       "      <td>0.0</td>\n",
       "      <td>0.0</td>\n",
       "      <td>0.0</td>\n",
       "      <td>0.0</td>\n",
       "      <td>0.0</td>\n",
       "      <td>0.0</td>\n",
       "      <td>0.0</td>\n",
       "      <td>0.0</td>\n",
       "      <td>0.0</td>\n",
       "      <td>0.0</td>\n",
       "    </tr>\n",
       "    <tr>\n",
       "      <th>4</th>\n",
       "      <td>1.000000</td>\n",
       "      <td>0.923664</td>\n",
       "      <td>0.656489</td>\n",
       "      <td>0.195929</td>\n",
       "      <td>0.111959</td>\n",
       "      <td>0.175573</td>\n",
       "      <td>0.122137</td>\n",
       "      <td>0.050891</td>\n",
       "      <td>0.035623</td>\n",
       "      <td>0.055980</td>\n",
       "      <td>...</td>\n",
       "      <td>0.0</td>\n",
       "      <td>0.0</td>\n",
       "      <td>0.0</td>\n",
       "      <td>0.0</td>\n",
       "      <td>0.0</td>\n",
       "      <td>0.0</td>\n",
       "      <td>0.0</td>\n",
       "      <td>0.0</td>\n",
       "      <td>0.0</td>\n",
       "      <td>0.0</td>\n",
       "    </tr>\n",
       "    <tr>\n",
       "      <th>...</th>\n",
       "      <td>...</td>\n",
       "      <td>...</td>\n",
       "      <td>...</td>\n",
       "      <td>...</td>\n",
       "      <td>...</td>\n",
       "      <td>...</td>\n",
       "      <td>...</td>\n",
       "      <td>...</td>\n",
       "      <td>...</td>\n",
       "      <td>...</td>\n",
       "      <td>...</td>\n",
       "      <td>...</td>\n",
       "      <td>...</td>\n",
       "      <td>...</td>\n",
       "      <td>...</td>\n",
       "      <td>...</td>\n",
       "      <td>...</td>\n",
       "      <td>...</td>\n",
       "      <td>...</td>\n",
       "      <td>...</td>\n",
       "      <td>...</td>\n",
       "    </tr>\n",
       "    <tr>\n",
       "      <th>21886</th>\n",
       "      <td>0.928736</td>\n",
       "      <td>0.871264</td>\n",
       "      <td>0.804598</td>\n",
       "      <td>0.742529</td>\n",
       "      <td>0.650575</td>\n",
       "      <td>0.535632</td>\n",
       "      <td>0.394253</td>\n",
       "      <td>0.250575</td>\n",
       "      <td>0.140230</td>\n",
       "      <td>0.102299</td>\n",
       "      <td>...</td>\n",
       "      <td>0.0</td>\n",
       "      <td>0.0</td>\n",
       "      <td>0.0</td>\n",
       "      <td>0.0</td>\n",
       "      <td>0.0</td>\n",
       "      <td>0.0</td>\n",
       "      <td>0.0</td>\n",
       "      <td>0.0</td>\n",
       "      <td>0.0</td>\n",
       "      <td>4.0</td>\n",
       "    </tr>\n",
       "    <tr>\n",
       "      <th>21887</th>\n",
       "      <td>0.802691</td>\n",
       "      <td>0.692078</td>\n",
       "      <td>0.587444</td>\n",
       "      <td>0.446936</td>\n",
       "      <td>0.318386</td>\n",
       "      <td>0.189836</td>\n",
       "      <td>0.118087</td>\n",
       "      <td>0.077728</td>\n",
       "      <td>0.112108</td>\n",
       "      <td>0.152466</td>\n",
       "      <td>...</td>\n",
       "      <td>0.0</td>\n",
       "      <td>0.0</td>\n",
       "      <td>0.0</td>\n",
       "      <td>0.0</td>\n",
       "      <td>0.0</td>\n",
       "      <td>0.0</td>\n",
       "      <td>0.0</td>\n",
       "      <td>0.0</td>\n",
       "      <td>0.0</td>\n",
       "      <td>4.0</td>\n",
       "    </tr>\n",
       "    <tr>\n",
       "      <th>21888</th>\n",
       "      <td>1.000000</td>\n",
       "      <td>0.967359</td>\n",
       "      <td>0.620178</td>\n",
       "      <td>0.347181</td>\n",
       "      <td>0.139466</td>\n",
       "      <td>0.089021</td>\n",
       "      <td>0.103858</td>\n",
       "      <td>0.100890</td>\n",
       "      <td>0.106825</td>\n",
       "      <td>0.100890</td>\n",
       "      <td>...</td>\n",
       "      <td>0.0</td>\n",
       "      <td>0.0</td>\n",
       "      <td>0.0</td>\n",
       "      <td>0.0</td>\n",
       "      <td>0.0</td>\n",
       "      <td>0.0</td>\n",
       "      <td>0.0</td>\n",
       "      <td>0.0</td>\n",
       "      <td>0.0</td>\n",
       "      <td>4.0</td>\n",
       "    </tr>\n",
       "    <tr>\n",
       "      <th>21889</th>\n",
       "      <td>0.984127</td>\n",
       "      <td>0.567460</td>\n",
       "      <td>0.607143</td>\n",
       "      <td>0.583333</td>\n",
       "      <td>0.607143</td>\n",
       "      <td>0.575397</td>\n",
       "      <td>0.575397</td>\n",
       "      <td>0.488095</td>\n",
       "      <td>0.392857</td>\n",
       "      <td>0.238095</td>\n",
       "      <td>...</td>\n",
       "      <td>0.0</td>\n",
       "      <td>0.0</td>\n",
       "      <td>0.0</td>\n",
       "      <td>0.0</td>\n",
       "      <td>0.0</td>\n",
       "      <td>0.0</td>\n",
       "      <td>0.0</td>\n",
       "      <td>0.0</td>\n",
       "      <td>0.0</td>\n",
       "      <td>4.0</td>\n",
       "    </tr>\n",
       "    <tr>\n",
       "      <th>21890</th>\n",
       "      <td>0.973970</td>\n",
       "      <td>0.913232</td>\n",
       "      <td>0.865510</td>\n",
       "      <td>0.823210</td>\n",
       "      <td>0.746204</td>\n",
       "      <td>0.642082</td>\n",
       "      <td>0.547722</td>\n",
       "      <td>0.426247</td>\n",
       "      <td>0.325380</td>\n",
       "      <td>0.279826</td>\n",
       "      <td>...</td>\n",
       "      <td>0.0</td>\n",
       "      <td>0.0</td>\n",
       "      <td>0.0</td>\n",
       "      <td>0.0</td>\n",
       "      <td>0.0</td>\n",
       "      <td>0.0</td>\n",
       "      <td>0.0</td>\n",
       "      <td>0.0</td>\n",
       "      <td>0.0</td>\n",
       "      <td>4.0</td>\n",
       "    </tr>\n",
       "  </tbody>\n",
       "</table>\n",
       "<p>21891 rows × 188 columns</p>\n",
       "</div>"
      ],
      "text/plain": [
       "       1.000000000000000000e+00  7.582644820213317871e-01  \\\n",
       "0                      0.908425                  0.783883   \n",
       "1                      0.730088                  0.212389   \n",
       "2                      1.000000                  0.910417   \n",
       "3                      0.570470                  0.399329   \n",
       "4                      1.000000                  0.923664   \n",
       "...                         ...                       ...   \n",
       "21886                  0.928736                  0.871264   \n",
       "21887                  0.802691                  0.692078   \n",
       "21888                  1.000000                  0.967359   \n",
       "21889                  0.984127                  0.567460   \n",
       "21890                  0.973970                  0.913232   \n",
       "\n",
       "       1.115702465176582336e-01  0.000000000000000000e+00  \\\n",
       "0                      0.531136                  0.362637   \n",
       "1                      0.000000                  0.119469   \n",
       "2                      0.681250                  0.472917   \n",
       "3                      0.238255                  0.147651   \n",
       "4                      0.656489                  0.195929   \n",
       "...                         ...                       ...   \n",
       "21886                  0.804598                  0.742529   \n",
       "21887                  0.587444                  0.446936   \n",
       "21888                  0.620178                  0.347181   \n",
       "21889                  0.607143                  0.583333   \n",
       "21890                  0.865510                  0.823210   \n",
       "\n",
       "       8.057851344347000122e-02  7.851240038871765137e-02  \\\n",
       "0                      0.366300                  0.344322   \n",
       "1                      0.101770                  0.101770   \n",
       "2                      0.229167                  0.068750   \n",
       "3                      0.000000                  0.003356   \n",
       "4                      0.111959                  0.175573   \n",
       "...                         ...                       ...   \n",
       "21886                  0.650575                  0.535632   \n",
       "21887                  0.318386                  0.189836   \n",
       "21888                  0.139466                  0.089021   \n",
       "21889                  0.607143                  0.575397   \n",
       "21890                  0.746204                  0.642082   \n",
       "\n",
       "       6.611569970846176147e-02  4.958677664399147034e-02  \\\n",
       "0                      0.333333                  0.307692   \n",
       "1                      0.110619                  0.123894   \n",
       "2                      0.000000                  0.004167   \n",
       "3                      0.040268                  0.080537   \n",
       "4                      0.122137                  0.050891   \n",
       "...                         ...                       ...   \n",
       "21886                  0.394253                  0.250575   \n",
       "21887                  0.118087                  0.077728   \n",
       "21888                  0.103858                  0.100890   \n",
       "21889                  0.575397                  0.488095   \n",
       "21890                  0.547722                  0.426247   \n",
       "\n",
       "       4.752065986394882202e-02  3.512396663427352905e-02  ...  \\\n",
       "0                      0.296703                  0.300366  ...   \n",
       "1                      0.115044                  0.132743  ...   \n",
       "2                      0.014583                  0.054167  ...   \n",
       "3                      0.070470                  0.090604  ...   \n",
       "4                      0.035623                  0.055980  ...   \n",
       "...                         ...                       ...  ...   \n",
       "21886                  0.140230                  0.102299  ...   \n",
       "21887                  0.112108                  0.152466  ...   \n",
       "21888                  0.106825                  0.100890  ...   \n",
       "21889                  0.392857                  0.238095  ...   \n",
       "21890                  0.325380                  0.279826  ...   \n",
       "\n",
       "       0.000000000000000000e+00.56  0.000000000000000000e+00.57  \\\n",
       "0                              0.0                          0.0   \n",
       "1                              0.0                          0.0   \n",
       "2                              0.0                          0.0   \n",
       "3                              0.0                          0.0   \n",
       "4                              0.0                          0.0   \n",
       "...                            ...                          ...   \n",
       "21886                          0.0                          0.0   \n",
       "21887                          0.0                          0.0   \n",
       "21888                          0.0                          0.0   \n",
       "21889                          0.0                          0.0   \n",
       "21890                          0.0                          0.0   \n",
       "\n",
       "       0.000000000000000000e+00.58  0.000000000000000000e+00.59  \\\n",
       "0                              0.0                          0.0   \n",
       "1                              0.0                          0.0   \n",
       "2                              0.0                          0.0   \n",
       "3                              0.0                          0.0   \n",
       "4                              0.0                          0.0   \n",
       "...                            ...                          ...   \n",
       "21886                          0.0                          0.0   \n",
       "21887                          0.0                          0.0   \n",
       "21888                          0.0                          0.0   \n",
       "21889                          0.0                          0.0   \n",
       "21890                          0.0                          0.0   \n",
       "\n",
       "       0.000000000000000000e+00.60  0.000000000000000000e+00.61  \\\n",
       "0                              0.0                          0.0   \n",
       "1                              0.0                          0.0   \n",
       "2                              0.0                          0.0   \n",
       "3                              0.0                          0.0   \n",
       "4                              0.0                          0.0   \n",
       "...                            ...                          ...   \n",
       "21886                          0.0                          0.0   \n",
       "21887                          0.0                          0.0   \n",
       "21888                          0.0                          0.0   \n",
       "21889                          0.0                          0.0   \n",
       "21890                          0.0                          0.0   \n",
       "\n",
       "       0.000000000000000000e+00.62  0.000000000000000000e+00.63  \\\n",
       "0                              0.0                          0.0   \n",
       "1                              0.0                          0.0   \n",
       "2                              0.0                          0.0   \n",
       "3                              0.0                          0.0   \n",
       "4                              0.0                          0.0   \n",
       "...                            ...                          ...   \n",
       "21886                          0.0                          0.0   \n",
       "21887                          0.0                          0.0   \n",
       "21888                          0.0                          0.0   \n",
       "21889                          0.0                          0.0   \n",
       "21890                          0.0                          0.0   \n",
       "\n",
       "       0.000000000000000000e+00.64  0.000000000000000000e+00.65  \n",
       "0                              0.0                          0.0  \n",
       "1                              0.0                          0.0  \n",
       "2                              0.0                          0.0  \n",
       "3                              0.0                          0.0  \n",
       "4                              0.0                          0.0  \n",
       "...                            ...                          ...  \n",
       "21886                          0.0                          4.0  \n",
       "21887                          0.0                          4.0  \n",
       "21888                          0.0                          4.0  \n",
       "21889                          0.0                          4.0  \n",
       "21890                          0.0                          4.0  \n",
       "\n",
       "[21891 rows x 188 columns]"
      ]
     },
     "execution_count": 4,
     "metadata": {},
     "output_type": "execute_result"
    }
   ],
   "source": [
    "dfs[1]"
   ]
  },
  {
   "cell_type": "code",
   "execution_count": 5,
   "id": "3606f7d3",
   "metadata": {
    "execution": {
     "iopub.execute_input": "2021-10-21T05:54:24.634278Z",
     "iopub.status.busy": "2021-10-21T05:54:24.633626Z",
     "iopub.status.idle": "2021-10-21T05:54:24.636808Z",
     "shell.execute_reply": "2021-10-21T05:54:24.636301Z",
     "shell.execute_reply.started": "2021-10-21T05:14:58.410529Z"
    },
    "papermill": {
     "duration": 0.048445,
     "end_time": "2021-10-21T05:54:24.636950",
     "exception": false,
     "start_time": "2021-10-21T05:54:24.588505",
     "status": "completed"
    },
    "tags": []
   },
   "outputs": [],
   "source": [
    "for df in dfs:\n",
    "    df.columns=list(range(len(df.columns)))"
   ]
  },
  {
   "cell_type": "code",
   "execution_count": 6,
   "id": "40672259",
   "metadata": {
    "execution": {
     "iopub.execute_input": "2021-10-21T05:54:24.716305Z",
     "iopub.status.busy": "2021-10-21T05:54:24.715661Z",
     "iopub.status.idle": "2021-10-21T05:54:24.798060Z",
     "shell.execute_reply": "2021-10-21T05:54:24.797484Z",
     "shell.execute_reply.started": "2021-10-21T05:15:01.994722Z"
    },
    "papermill": {
     "duration": 0.124013,
     "end_time": "2021-10-21T05:54:24.798201",
     "exception": false,
     "start_time": "2021-10-21T05:54:24.674188",
     "status": "completed"
    },
    "tags": []
   },
   "outputs": [],
   "source": [
    "train = dfs[0].rename({187: 'Label'}, axis=1)\n",
    "test = dfs[1].rename({187: 'Label'}, axis=1)\n"
   ]
  },
  {
   "cell_type": "code",
   "execution_count": 7,
   "id": "9d68d764",
   "metadata": {
    "execution": {
     "iopub.execute_input": "2021-10-21T05:54:24.893662Z",
     "iopub.status.busy": "2021-10-21T05:54:24.893053Z",
     "iopub.status.idle": "2021-10-21T05:54:25.110236Z",
     "shell.execute_reply": "2021-10-21T05:54:25.110718Z",
     "shell.execute_reply.started": "2021-10-21T05:15:04.962293Z"
    },
    "papermill": {
     "duration": 0.275462,
     "end_time": "2021-10-21T05:54:25.110942",
     "exception": false,
     "start_time": "2021-10-21T05:54:24.835480",
     "status": "completed"
    },
    "tags": []
   },
   "outputs": [
    {
     "data": {
      "text/plain": [
       "[<matplotlib.lines.Line2D at 0x7f681c3cba10>]"
      ]
     },
     "execution_count": 7,
     "metadata": {},
     "output_type": "execute_result"
    },
    {
     "data": {
      "image/png": "[encoded data removed]",
      "text/plain": [
       "<Figure size 432x288 with 1 Axes>"
      ]
     },
     "metadata": {
      "needs_background": "light"
     },
     "output_type": "display_data"
    }
   ],
   "source": [
    "plt.plot(train.iloc[0,:186])"
   ]
  },
  {
   "cell_type": "code",
   "execution_count": 8,
   "id": "77253d12",
   "metadata": {
    "execution": {
     "iopub.execute_input": "2021-10-21T05:54:25.200034Z",
     "iopub.status.busy": "2021-10-21T05:54:25.199268Z",
     "iopub.status.idle": "2021-10-21T05:54:25.202707Z",
     "shell.execute_reply": "2021-10-21T05:54:25.203393Z",
     "shell.execute_reply.started": "2021-10-21T05:15:10.664621Z"
    },
    "papermill": {
     "duration": 0.053771,
     "end_time": "2021-10-21T05:54:25.203612",
     "exception": false,
     "start_time": "2021-10-21T05:54:25.149841",
     "status": "completed"
    },
    "tags": []
   },
   "outputs": [
    {
     "name": "stdout",
     "output_type": "stream",
     "text": [
      "0.0    72470\n",
      "4.0     6431\n",
      "2.0     5788\n",
      "1.0     2223\n",
      "3.0      641\n",
      "Name: Label, dtype: int64\n"
     ]
    }
   ],
   "source": [
    "count=train['Label'].value_counts()\n",
    "print(count)"
   ]
  },
  {
   "cell_type": "code",
   "execution_count": 9,
   "id": "9f32924a",
   "metadata": {
    "execution": {
     "iopub.execute_input": "2021-10-21T05:54:25.288179Z",
     "iopub.status.busy": "2021-10-21T05:54:25.287235Z",
     "iopub.status.idle": "2021-10-21T05:54:25.290223Z",
     "shell.execute_reply": "2021-10-21T05:54:25.290674Z",
     "shell.execute_reply.started": "2021-10-21T05:15:16.931223Z"
    },
    "papermill": {
     "duration": 0.048063,
     "end_time": "2021-10-21T05:54:25.290864",
     "exception": false,
     "start_time": "2021-10-21T05:54:25.242801",
     "status": "completed"
    },
    "tags": []
   },
   "outputs": [
    {
     "name": "stdout",
     "output_type": "stream",
     "text": [
      "0.0    18117\n",
      "4.0     1608\n",
      "2.0     1448\n",
      "1.0      556\n",
      "3.0      162\n",
      "Name: Label, dtype: int64\n"
     ]
    }
   ],
   "source": [
    "count=test['Label'].value_counts()\n",
    "print(count)"
   ]
  },
  {
   "cell_type": "code",
   "execution_count": 10,
   "id": "28cca59a",
   "metadata": {
    "execution": {
     "iopub.execute_input": "2021-10-21T05:54:25.378732Z",
     "iopub.status.busy": "2021-10-21T05:54:25.378066Z",
     "iopub.status.idle": "2021-10-21T05:54:25.454013Z",
     "shell.execute_reply": "2021-10-21T05:54:25.453389Z",
     "shell.execute_reply.started": "2021-10-21T05:15:20.061314Z"
    },
    "papermill": {
     "duration": 0.124355,
     "end_time": "2021-10-21T05:54:25.454174",
     "exception": false,
     "start_time": "2021-10-21T05:54:25.329819",
     "status": "completed"
    },
    "tags": []
   },
   "outputs": [],
   "source": [
    "from sklearn.utils import resample\n",
    "df_0=train[train['Label']==0]\n",
    "df_1=train[train['Label']==1]\n",
    "df_2=train[train['Label']==2]\n",
    "df_4=train[train['Label']==4]\n",
    "df_3=(train[train['Label']==3]).sample(n=370,replace=True)\n",
    "df_0_downsample=resample(df_0,replace=False,n_samples=370,random_state=42)\n",
    "df_1_downsample=resample(df_1,replace=False,n_samples=370,random_state=42)\n",
    "df_2_downsample=resample(df_2,replace=False,n_samples=370,random_state=42)\n",
    "df_4_downsample=resample(df_4,replace=False,n_samples=370,random_state=42)\n",
    "\n",
    "train=pd.concat([df_0_downsample,df_1_downsample,df_2_downsample,df_3,df_4_downsample])"
   ]
  },
  {
   "cell_type": "code",
   "execution_count": 11,
   "id": "7092b37a",
   "metadata": {
    "execution": {
     "iopub.execute_input": "2021-10-21T05:54:25.539657Z",
     "iopub.status.busy": "2021-10-21T05:54:25.538969Z",
     "iopub.status.idle": "2021-10-21T05:54:25.542711Z",
     "shell.execute_reply": "2021-10-21T05:54:25.543311Z",
     "shell.execute_reply.started": "2021-10-21T05:15:35.73843Z"
    },
    "papermill": {
     "duration": 0.050465,
     "end_time": "2021-10-21T05:54:25.543491",
     "exception": false,
     "start_time": "2021-10-21T05:54:25.493026",
     "status": "completed"
    },
    "tags": []
   },
   "outputs": [
    {
     "name": "stdout",
     "output_type": "stream",
     "text": [
      "0.0    370\n",
      "1.0    370\n",
      "2.0    370\n",
      "3.0    370\n",
      "4.0    370\n",
      "Name: Label, dtype: int64\n"
     ]
    }
   ],
   "source": [
    "count=train['Label'].value_counts()\n",
    "print(count)"
   ]
  },
  {
   "cell_type": "code",
   "execution_count": 12,
   "id": "61891a26",
   "metadata": {
    "execution": {
     "iopub.execute_input": "2021-10-21T05:54:25.632270Z",
     "iopub.status.busy": "2021-10-21T05:54:25.631484Z",
     "iopub.status.idle": "2021-10-21T05:54:25.659338Z",
     "shell.execute_reply": "2021-10-21T05:54:25.659914Z",
     "shell.execute_reply.started": "2021-10-21T05:15:47.927732Z"
    },
    "papermill": {
     "duration": 0.076888,
     "end_time": "2021-10-21T05:54:25.660114",
     "exception": false,
     "start_time": "2021-10-21T05:54:25.583226",
     "status": "completed"
    },
    "tags": []
   },
   "outputs": [],
   "source": [
    "from sklearn.utils import resample\n",
    "df_0=test[test['Label']==0]\n",
    "df_1=test[test['Label']==1]\n",
    "df_2=test[test['Label']==2]\n",
    "df_4=test[test['Label']==4]\n",
    "df_3=(test[test['Label']==3]).sample(n=160,replace=True)\n",
    "df_0_downsample=resample(df_0,replace=False,n_samples=160,random_state=42)\n",
    "df_1_downsample=resample(df_1,replace=False,n_samples=160,random_state=42)\n",
    "df_2_downsample=resample(df_2,replace=False,n_samples=160,random_state=42)\n",
    "df_4_downsample=resample(df_4,replace=False,n_samples=160,random_state=42)\n",
    "\n",
    "test=pd.concat([df_0_downsample,df_1_downsample,df_2_downsample,df_3,df_4_downsample])"
   ]
  },
  {
   "cell_type": "code",
   "execution_count": 13,
   "id": "41c8bb96",
   "metadata": {
    "execution": {
     "iopub.execute_input": "2021-10-21T05:54:25.745298Z",
     "iopub.status.busy": "2021-10-21T05:54:25.744580Z",
     "iopub.status.idle": "2021-10-21T05:54:25.748265Z",
     "shell.execute_reply": "2021-10-21T05:54:25.747589Z",
     "shell.execute_reply.started": "2021-10-21T05:15:54.349647Z"
    },
    "papermill": {
     "duration": 0.049053,
     "end_time": "2021-10-21T05:54:25.748409",
     "exception": false,
     "start_time": "2021-10-21T05:54:25.699356",
     "status": "completed"
    },
    "tags": []
   },
   "outputs": [
    {
     "name": "stdout",
     "output_type": "stream",
     "text": [
      "0.0    160\n",
      "1.0    160\n",
      "2.0    160\n",
      "3.0    160\n",
      "4.0    160\n",
      "Name: Label, dtype: int64\n"
     ]
    }
   ],
   "source": [
    "count=test['Label'].value_counts()\n",
    "print(count)"
   ]
  },
  {
   "cell_type": "code",
   "execution_count": 14,
   "id": "5fdd1807",
   "metadata": {
    "execution": {
     "iopub.execute_input": "2021-10-21T05:54:25.836026Z",
     "iopub.status.busy": "2021-10-21T05:54:25.830139Z",
     "iopub.status.idle": "2021-10-21T05:54:25.868565Z",
     "shell.execute_reply": "2021-10-21T05:54:25.869091Z",
     "shell.execute_reply.started": "2021-10-21T05:15:57.18679Z"
    },
    "papermill": {
     "duration": 0.081552,
     "end_time": "2021-10-21T05:54:25.869270",
     "exception": false,
     "start_time": "2021-10-21T05:54:25.787718",
     "status": "completed"
    },
    "tags": []
   },
   "outputs": [
    {
     "data": {
      "text/html": [
       "<div>\n",
       "<style scoped>\n",
       "    .dataframe tbody tr th:only-of-type {\n",
       "        vertical-align: middle;\n",
       "    }\n",
       "\n",
       "    .dataframe tbody tr th {\n",
       "        vertical-align: top;\n",
       "    }\n",
       "\n",
       "    .dataframe thead th {\n",
       "        text-align: right;\n",
       "    }\n",
       "</style>\n",
       "<table border=\"1\" class=\"dataframe\">\n",
       "  <thead>\n",
       "    <tr style=\"text-align: right;\">\n",
       "      <th></th>\n",
       "      <th>0</th>\n",
       "      <th>1</th>\n",
       "      <th>2</th>\n",
       "      <th>3</th>\n",
       "      <th>4</th>\n",
       "      <th>5</th>\n",
       "      <th>6</th>\n",
       "      <th>7</th>\n",
       "      <th>8</th>\n",
       "      <th>9</th>\n",
       "      <th>...</th>\n",
       "      <th>177</th>\n",
       "      <th>178</th>\n",
       "      <th>179</th>\n",
       "      <th>180</th>\n",
       "      <th>181</th>\n",
       "      <th>182</th>\n",
       "      <th>183</th>\n",
       "      <th>184</th>\n",
       "      <th>185</th>\n",
       "      <th>186</th>\n",
       "    </tr>\n",
       "  </thead>\n",
       "  <tbody>\n",
       "    <tr>\n",
       "      <th>10153</th>\n",
       "      <td>0.923372</td>\n",
       "      <td>0.800766</td>\n",
       "      <td>0.386973</td>\n",
       "      <td>0.000000</td>\n",
       "      <td>0.022989</td>\n",
       "      <td>0.080460</td>\n",
       "      <td>0.141762</td>\n",
       "      <td>0.176245</td>\n",
       "      <td>0.180077</td>\n",
       "      <td>0.183908</td>\n",
       "      <td>...</td>\n",
       "      <td>0.0</td>\n",
       "      <td>0.0</td>\n",
       "      <td>0.0</td>\n",
       "      <td>0.0</td>\n",
       "      <td>0.0</td>\n",
       "      <td>0.0</td>\n",
       "      <td>0.0</td>\n",
       "      <td>0.0</td>\n",
       "      <td>0.0</td>\n",
       "      <td>0.0</td>\n",
       "    </tr>\n",
       "    <tr>\n",
       "      <th>33886</th>\n",
       "      <td>1.000000</td>\n",
       "      <td>0.784530</td>\n",
       "      <td>0.198895</td>\n",
       "      <td>0.096685</td>\n",
       "      <td>0.124309</td>\n",
       "      <td>0.157459</td>\n",
       "      <td>0.118785</td>\n",
       "      <td>0.121547</td>\n",
       "      <td>0.116022</td>\n",
       "      <td>0.099448</td>\n",
       "      <td>...</td>\n",
       "      <td>0.0</td>\n",
       "      <td>0.0</td>\n",
       "      <td>0.0</td>\n",
       "      <td>0.0</td>\n",
       "      <td>0.0</td>\n",
       "      <td>0.0</td>\n",
       "      <td>0.0</td>\n",
       "      <td>0.0</td>\n",
       "      <td>0.0</td>\n",
       "      <td>0.0</td>\n",
       "    </tr>\n",
       "    <tr>\n",
       "      <th>32005</th>\n",
       "      <td>1.000000</td>\n",
       "      <td>0.844720</td>\n",
       "      <td>0.366460</td>\n",
       "      <td>0.110248</td>\n",
       "      <td>0.166149</td>\n",
       "      <td>0.181677</td>\n",
       "      <td>0.167702</td>\n",
       "      <td>0.180124</td>\n",
       "      <td>0.184783</td>\n",
       "      <td>0.173913</td>\n",
       "      <td>...</td>\n",
       "      <td>0.0</td>\n",
       "      <td>0.0</td>\n",
       "      <td>0.0</td>\n",
       "      <td>0.0</td>\n",
       "      <td>0.0</td>\n",
       "      <td>0.0</td>\n",
       "      <td>0.0</td>\n",
       "      <td>0.0</td>\n",
       "      <td>0.0</td>\n",
       "      <td>0.0</td>\n",
       "    </tr>\n",
       "    <tr>\n",
       "      <th>56158</th>\n",
       "      <td>0.978495</td>\n",
       "      <td>0.723118</td>\n",
       "      <td>0.526882</td>\n",
       "      <td>0.298387</td>\n",
       "      <td>0.220430</td>\n",
       "      <td>0.158602</td>\n",
       "      <td>0.091398</td>\n",
       "      <td>0.091398</td>\n",
       "      <td>0.080645</td>\n",
       "      <td>0.083333</td>\n",
       "      <td>...</td>\n",
       "      <td>0.0</td>\n",
       "      <td>0.0</td>\n",
       "      <td>0.0</td>\n",
       "      <td>0.0</td>\n",
       "      <td>0.0</td>\n",
       "      <td>0.0</td>\n",
       "      <td>0.0</td>\n",
       "      <td>0.0</td>\n",
       "      <td>0.0</td>\n",
       "      <td>0.0</td>\n",
       "    </tr>\n",
       "    <tr>\n",
       "      <th>60421</th>\n",
       "      <td>0.868385</td>\n",
       "      <td>0.677069</td>\n",
       "      <td>0.373134</td>\n",
       "      <td>0.111262</td>\n",
       "      <td>0.005427</td>\n",
       "      <td>0.096336</td>\n",
       "      <td>0.143826</td>\n",
       "      <td>0.122117</td>\n",
       "      <td>0.108548</td>\n",
       "      <td>0.107191</td>\n",
       "      <td>...</td>\n",
       "      <td>0.0</td>\n",
       "      <td>0.0</td>\n",
       "      <td>0.0</td>\n",
       "      <td>0.0</td>\n",
       "      <td>0.0</td>\n",
       "      <td>0.0</td>\n",
       "      <td>0.0</td>\n",
       "      <td>0.0</td>\n",
       "      <td>0.0</td>\n",
       "      <td>0.0</td>\n",
       "    </tr>\n",
       "    <tr>\n",
       "      <th>...</th>\n",
       "      <td>...</td>\n",
       "      <td>...</td>\n",
       "      <td>...</td>\n",
       "      <td>...</td>\n",
       "      <td>...</td>\n",
       "      <td>...</td>\n",
       "      <td>...</td>\n",
       "      <td>...</td>\n",
       "      <td>...</td>\n",
       "      <td>...</td>\n",
       "      <td>...</td>\n",
       "      <td>...</td>\n",
       "      <td>...</td>\n",
       "      <td>...</td>\n",
       "      <td>...</td>\n",
       "      <td>...</td>\n",
       "      <td>...</td>\n",
       "      <td>...</td>\n",
       "      <td>...</td>\n",
       "      <td>...</td>\n",
       "      <td>...</td>\n",
       "    </tr>\n",
       "    <tr>\n",
       "      <th>84635</th>\n",
       "      <td>1.000000</td>\n",
       "      <td>0.423977</td>\n",
       "      <td>0.461988</td>\n",
       "      <td>0.356725</td>\n",
       "      <td>0.289474</td>\n",
       "      <td>0.269006</td>\n",
       "      <td>0.315789</td>\n",
       "      <td>0.321637</td>\n",
       "      <td>0.163743</td>\n",
       "      <td>0.108187</td>\n",
       "      <td>...</td>\n",
       "      <td>0.0</td>\n",
       "      <td>0.0</td>\n",
       "      <td>0.0</td>\n",
       "      <td>0.0</td>\n",
       "      <td>0.0</td>\n",
       "      <td>0.0</td>\n",
       "      <td>0.0</td>\n",
       "      <td>0.0</td>\n",
       "      <td>0.0</td>\n",
       "      <td>0.0</td>\n",
       "    </tr>\n",
       "    <tr>\n",
       "      <th>85882</th>\n",
       "      <td>0.903226</td>\n",
       "      <td>0.602151</td>\n",
       "      <td>0.594982</td>\n",
       "      <td>0.559140</td>\n",
       "      <td>0.551971</td>\n",
       "      <td>0.498208</td>\n",
       "      <td>0.487455</td>\n",
       "      <td>0.408602</td>\n",
       "      <td>0.347670</td>\n",
       "      <td>0.193548</td>\n",
       "      <td>...</td>\n",
       "      <td>0.0</td>\n",
       "      <td>0.0</td>\n",
       "      <td>0.0</td>\n",
       "      <td>0.0</td>\n",
       "      <td>0.0</td>\n",
       "      <td>0.0</td>\n",
       "      <td>0.0</td>\n",
       "      <td>0.0</td>\n",
       "      <td>0.0</td>\n",
       "      <td>0.0</td>\n",
       "    </tr>\n",
       "    <tr>\n",
       "      <th>81598</th>\n",
       "      <td>0.881890</td>\n",
       "      <td>0.830146</td>\n",
       "      <td>0.766029</td>\n",
       "      <td>0.708661</td>\n",
       "      <td>0.605174</td>\n",
       "      <td>0.503937</td>\n",
       "      <td>0.394826</td>\n",
       "      <td>0.294713</td>\n",
       "      <td>0.250844</td>\n",
       "      <td>0.208099</td>\n",
       "      <td>...</td>\n",
       "      <td>0.0</td>\n",
       "      <td>0.0</td>\n",
       "      <td>0.0</td>\n",
       "      <td>0.0</td>\n",
       "      <td>0.0</td>\n",
       "      <td>0.0</td>\n",
       "      <td>0.0</td>\n",
       "      <td>0.0</td>\n",
       "      <td>0.0</td>\n",
       "      <td>0.0</td>\n",
       "    </tr>\n",
       "    <tr>\n",
       "      <th>83637</th>\n",
       "      <td>0.885714</td>\n",
       "      <td>0.534694</td>\n",
       "      <td>0.542857</td>\n",
       "      <td>0.551020</td>\n",
       "      <td>0.555102</td>\n",
       "      <td>0.546939</td>\n",
       "      <td>0.534694</td>\n",
       "      <td>0.489796</td>\n",
       "      <td>0.391837</td>\n",
       "      <td>0.273469</td>\n",
       "      <td>...</td>\n",
       "      <td>0.0</td>\n",
       "      <td>0.0</td>\n",
       "      <td>0.0</td>\n",
       "      <td>0.0</td>\n",
       "      <td>0.0</td>\n",
       "      <td>0.0</td>\n",
       "      <td>0.0</td>\n",
       "      <td>0.0</td>\n",
       "      <td>0.0</td>\n",
       "      <td>0.0</td>\n",
       "    </tr>\n",
       "    <tr>\n",
       "      <th>85457</th>\n",
       "      <td>0.940171</td>\n",
       "      <td>0.500000</td>\n",
       "      <td>0.508547</td>\n",
       "      <td>0.538462</td>\n",
       "      <td>0.508547</td>\n",
       "      <td>0.500000</td>\n",
       "      <td>0.504274</td>\n",
       "      <td>0.512821</td>\n",
       "      <td>0.444444</td>\n",
       "      <td>0.354701</td>\n",
       "      <td>...</td>\n",
       "      <td>0.0</td>\n",
       "      <td>0.0</td>\n",
       "      <td>0.0</td>\n",
       "      <td>0.0</td>\n",
       "      <td>0.0</td>\n",
       "      <td>0.0</td>\n",
       "      <td>0.0</td>\n",
       "      <td>0.0</td>\n",
       "      <td>0.0</td>\n",
       "      <td>0.0</td>\n",
       "    </tr>\n",
       "  </tbody>\n",
       "</table>\n",
       "<p>1850 rows × 187 columns</p>\n",
       "</div>"
      ],
      "text/plain": [
       "            0         1         2         3         4         5         6    \\\n",
       "10153  0.923372  0.800766  0.386973  0.000000  0.022989  0.080460  0.141762   \n",
       "33886  1.000000  0.784530  0.198895  0.096685  0.124309  0.157459  0.118785   \n",
       "32005  1.000000  0.844720  0.366460  0.110248  0.166149  0.181677  0.167702   \n",
       "56158  0.978495  0.723118  0.526882  0.298387  0.220430  0.158602  0.091398   \n",
       "60421  0.868385  0.677069  0.373134  0.111262  0.005427  0.096336  0.143826   \n",
       "...         ...       ...       ...       ...       ...       ...       ...   \n",
       "84635  1.000000  0.423977  0.461988  0.356725  0.289474  0.269006  0.315789   \n",
       "85882  0.903226  0.602151  0.594982  0.559140  0.551971  0.498208  0.487455   \n",
       "81598  0.881890  0.830146  0.766029  0.708661  0.605174  0.503937  0.394826   \n",
       "83637  0.885714  0.534694  0.542857  0.551020  0.555102  0.546939  0.534694   \n",
       "85457  0.940171  0.500000  0.508547  0.538462  0.508547  0.500000  0.504274   \n",
       "\n",
       "            7         8         9    ...  177  178  179  180  181  182  183  \\\n",
       "10153  0.176245  0.180077  0.183908  ...  0.0  0.0  0.0  0.0  0.0  0.0  0.0   \n",
       "33886  0.121547  0.116022  0.099448  ...  0.0  0.0  0.0  0.0  0.0  0.0  0.0   \n",
       "32005  0.180124  0.184783  0.173913  ...  0.0  0.0  0.0  0.0  0.0  0.0  0.0   \n",
       "56158  0.091398  0.080645  0.083333  ...  0.0  0.0  0.0  0.0  0.0  0.0  0.0   \n",
       "60421  0.122117  0.108548  0.107191  ...  0.0  0.0  0.0  0.0  0.0  0.0  0.0   \n",
       "...         ...       ...       ...  ...  ...  ...  ...  ...  ...  ...  ...   \n",
       "84635  0.321637  0.163743  0.108187  ...  0.0  0.0  0.0  0.0  0.0  0.0  0.0   \n",
       "85882  0.408602  0.347670  0.193548  ...  0.0  0.0  0.0  0.0  0.0  0.0  0.0   \n",
       "81598  0.294713  0.250844  0.208099  ...  0.0  0.0  0.0  0.0  0.0  0.0  0.0   \n",
       "83637  0.489796  0.391837  0.273469  ...  0.0  0.0  0.0  0.0  0.0  0.0  0.0   \n",
       "85457  0.512821  0.444444  0.354701  ...  0.0  0.0  0.0  0.0  0.0  0.0  0.0   \n",
       "\n",
       "       184  185  186  \n",
       "10153  0.0  0.0  0.0  \n",
       "33886  0.0  0.0  0.0  \n",
       "32005  0.0  0.0  0.0  \n",
       "56158  0.0  0.0  0.0  \n",
       "60421  0.0  0.0  0.0  \n",
       "...    ...  ...  ...  \n",
       "84635  0.0  0.0  0.0  \n",
       "85882  0.0  0.0  0.0  \n",
       "81598  0.0  0.0  0.0  \n",
       "83637  0.0  0.0  0.0  \n",
       "85457  0.0  0.0  0.0  \n",
       "\n",
       "[1850 rows x 187 columns]"
      ]
     },
     "execution_count": 14,
     "metadata": {},
     "output_type": "execute_result"
    }
   ],
   "source": [
    "x_train=train.drop('Label',axis=1)\n",
    "y_train=train['Label']\n",
    "x_train"
   ]
  },
  {
   "cell_type": "code",
   "execution_count": 15,
   "id": "799f57da",
   "metadata": {
    "execution": {
     "iopub.execute_input": "2021-10-21T05:54:25.956114Z",
     "iopub.status.busy": "2021-10-21T05:54:25.955464Z",
     "iopub.status.idle": "2021-10-21T05:54:25.960414Z",
     "shell.execute_reply": "2021-10-21T05:54:25.960926Z",
     "shell.execute_reply.started": "2021-10-21T05:16:00.8618Z"
    },
    "papermill": {
     "duration": 0.049428,
     "end_time": "2021-10-21T05:54:25.961093",
     "exception": false,
     "start_time": "2021-10-21T05:54:25.911665",
     "status": "completed"
    },
    "tags": []
   },
   "outputs": [],
   "source": [
    "x_test=test.drop('Label',axis=1)\n",
    "y_test=test['Label']"
   ]
  },
  {
   "cell_type": "code",
   "execution_count": 16,
   "id": "9a839c8f",
   "metadata": {
    "execution": {
     "iopub.execute_input": "2021-10-21T05:54:26.045583Z",
     "iopub.status.busy": "2021-10-21T05:54:26.044968Z",
     "iopub.status.idle": "2021-10-21T05:54:26.596986Z",
     "shell.execute_reply": "2021-10-21T05:54:26.596419Z",
     "shell.execute_reply.started": "2021-10-21T05:16:03.561753Z"
    },
    "papermill": {
     "duration": 0.594964,
     "end_time": "2021-10-21T05:54:26.597139",
     "exception": false,
     "start_time": "2021-10-21T05:54:26.002175",
     "status": "completed"
    },
    "tags": []
   },
   "outputs": [],
   "source": [
    "from sklearn import metrics\n",
    "from sklearn.neighbors import KNeighborsClassifier\n",
    "knn = KNeighborsClassifier(n_neighbors=5)\n",
    "knn.fit(x_train, y_train)\n",
    "knnpred = knn.predict(x_test)"
   ]
  },
  {
   "cell_type": "code",
   "execution_count": 17,
   "id": "e5826bfa",
   "metadata": {
    "execution": {
     "iopub.execute_input": "2021-10-21T05:54:26.700422Z",
     "iopub.status.busy": "2021-10-21T05:54:26.699601Z",
     "iopub.status.idle": "2021-10-21T05:54:26.701987Z",
     "shell.execute_reply": "2021-10-21T05:54:26.702478Z",
     "shell.execute_reply.started": "2021-10-21T05:16:06.221442Z"
    },
    "papermill": {
     "duration": 0.064424,
     "end_time": "2021-10-21T05:54:26.702647",
     "exception": false,
     "start_time": "2021-10-21T05:54:26.638223",
     "status": "completed"
    },
    "tags": []
   },
   "outputs": [],
   "source": [
    "def speci(kcm):\n",
    "    total=sum(sum(kcm))\n",
    "    sensitivity1 = kcm[0,0]/(kcm[0,0]+kcm[0,1]+kcm[0,2]+kcm[0,3]+kcm[0,4])\n",
    "    print('Sensitivity of  Non-ecotic beats (normal beat) ', sensitivity1 )\n",
    "    specificity1 = (kcm[1,1]+kcm[2,2]+kcm[3,3]+kcm[4,4])/(total-(kcm[0,0]+kcm[0,1]+kcm[0,2]+kcm[0,3]+kcm[0,4]))\n",
    "    print('Specificity of  Non-ecotic beats (normal beat) ', specificity1)\n",
    "    sensitivity1 = kcm[1,1]/(kcm[1,0]+kcm[1,1]+kcm[1,2]+kcm[1,3]+kcm[1,4])\n",
    "    print('Sensitivity of  Supraventricular ectopic beats ', sensitivity1 )\n",
    "    specificity1 = (kcm[0,0]+kcm[2,2]+kcm[3,3]+kcm[4,4])/(total-(kcm[1,0]+kcm[1,1]+kcm[1,2]+kcm[1,3]+kcm[1,4]))\n",
    "    print('Specificity of  Supraventricular ectopic beats ', specificity1)\n",
    "    sensitivity1 = kcm[2,2]/(kcm[2,0]+kcm[2,1]+kcm[2,2]+kcm[2,3]+kcm[2,4])\n",
    "    print('Sensitivity of  Ventricular ectopic beats  ', sensitivity1 )\n",
    "    specificity1 = (kcm[1,1]+kcm[0,0]+kcm[3,3]+kcm[4,4])/(total-(kcm[2,0]+kcm[2,1]+kcm[2,2]+kcm[2,3]+kcm[2,4]))\n",
    "    print('Specificity of  Ventricular ectopic beats ', specificity1)\n",
    "    sensitivity1 = kcm[3,3]/(kcm[3,0]+kcm[3,1]+kcm[3,2]+kcm[3,3]+kcm[3,4])\n",
    "    print('Sensitivity of  Fusion Beats ', sensitivity1 )\n",
    "    specificity1 = (kcm[1,1]+kcm[2,2]+kcm[0,0]+kcm[4,4])/(total-(kcm[3,0]+kcm[3,1]+kcm[3,2]+kcm[3,3]+kcm[3,4]))\n",
    "    print('Specificity of  Fusion Beats ', specificity1)\n",
    "    sensitivity1 = kcm[4,4]/(kcm[4,0]+kcm[4,1]+kcm[4,2]+kcm[4,3]+kcm[4,4])\n",
    "    print('Sensitivity of  Unknown Beats ', sensitivity1 )\n",
    "    specificity1 = (kcm[1,1]+kcm[2,2]+kcm[3,3]+kcm[0,0])/(total-(kcm[4,0]+kcm[4,1]+kcm[4,2]+kcm[4,3]+kcm[4,4]))\n",
    "    print('Specificity of  Unknown Beats ', specificity1)\n",
    "    "
   ]
  },
  {
   "cell_type": "code",
   "execution_count": 18,
   "id": "506f227f",
   "metadata": {
    "execution": {
     "iopub.execute_input": "2021-10-21T05:54:26.786184Z",
     "iopub.status.busy": "2021-10-21T05:54:26.785542Z",
     "iopub.status.idle": "2021-10-21T05:54:26.803893Z",
     "shell.execute_reply": "2021-10-21T05:54:26.804337Z",
     "shell.execute_reply.started": "2021-10-21T05:16:12.587762Z"
    },
    "papermill": {
     "duration": 0.061956,
     "end_time": "2021-10-21T05:54:26.804518",
     "exception": false,
     "start_time": "2021-10-21T05:54:26.742562",
     "status": "completed"
    },
    "tags": []
   },
   "outputs": [
    {
     "name": "stdout",
     "output_type": "stream",
     "text": [
      "[[118  10  14  17   1]\n",
      " [ 24 113   8  11   4]\n",
      " [ 14  10 127   8   1]\n",
      " [  8   0   5 147   0]\n",
      " [  2   1   6   1 150]]\n",
      "              precision    recall  f1-score   support\n",
      "\n",
      "         0.0       0.71      0.74      0.72       160\n",
      "         1.0       0.84      0.71      0.77       160\n",
      "         2.0       0.79      0.79      0.79       160\n",
      "         3.0       0.80      0.92      0.85       160\n",
      "         4.0       0.96      0.94      0.95       160\n",
      "\n",
      "    accuracy                           0.82       800\n",
      "   macro avg       0.82      0.82      0.82       800\n",
      "weighted avg       0.82      0.82      0.82       800\n",
      "\n",
      "Accuracy of KNN: 0.81875\n",
      "Sensitivity of  Non-ecotic beats (normal beat)  0.7375\n",
      "Specificity of  Non-ecotic beats (normal beat)  0.8390625\n",
      "Sensitivity of  Supraventricular ectopic beats  0.70625\n",
      "Specificity of  Supraventricular ectopic beats  0.846875\n",
      "Sensitivity of  Ventricular ectopic beats   0.79375\n",
      "Specificity of  Ventricular ectopic beats  0.825\n",
      "Sensitivity of  Fusion Beats  0.91875\n",
      "Specificity of  Fusion Beats  0.79375\n",
      "Sensitivity of  Unknown Beats  0.9375\n",
      "Specificity of  Unknown Beats  0.7890625\n"
     ]
    }
   ],
   "source": [
    "kcm = metrics.confusion_matrix(y_test, knnpred)\n",
    "print(kcm)\n",
    "print(metrics.classification_report(y_test, knnpred))\n",
    "knnaccuracy = metrics.accuracy_score(y_test, knnpred)\n",
    "print(\"Accuracy of KNN:\",knnaccuracy)\n",
    "speci(kcm)"
   ]
  },
  {
   "cell_type": "code",
   "execution_count": 19,
   "id": "86564bca",
   "metadata": {
    "execution": {
     "iopub.execute_input": "2021-10-21T05:54:26.891654Z",
     "iopub.status.busy": "2021-10-21T05:54:26.891017Z",
     "iopub.status.idle": "2021-10-21T05:54:26.911798Z",
     "shell.execute_reply": "2021-10-21T05:54:26.912295Z",
     "shell.execute_reply.started": "2021-10-21T05:16:18.048459Z"
    },
    "papermill": {
     "duration": 0.067195,
     "end_time": "2021-10-21T05:54:26.912488",
     "exception": false,
     "start_time": "2021-10-21T05:54:26.845293",
     "status": "completed"
    },
    "tags": []
   },
   "outputs": [],
   "source": [
    "from sklearn.naive_bayes import GaussianNB\n",
    "gnb = GaussianNB()\n",
    "gnb.fit(x_train, y_train)\n",
    "nbpred = gnb.predict(x_test)"
   ]
  },
  {
   "cell_type": "code",
   "execution_count": 20,
   "id": "c4aa2d0d",
   "metadata": {
    "execution": {
     "iopub.execute_input": "2021-10-21T05:54:27.001424Z",
     "iopub.status.busy": "2021-10-21T05:54:27.000680Z",
     "iopub.status.idle": "2021-10-21T05:54:27.014916Z",
     "shell.execute_reply": "2021-10-21T05:54:27.015766Z",
     "shell.execute_reply.started": "2021-10-21T05:16:20.791223Z"
    },
    "papermill": {
     "duration": 0.061294,
     "end_time": "2021-10-21T05:54:27.016031",
     "exception": false,
     "start_time": "2021-10-21T05:54:26.954737",
     "status": "completed"
    },
    "tags": []
   },
   "outputs": [
    {
     "name": "stdout",
     "output_type": "stream",
     "text": [
      "[[ 15   0   6   1 138]\n",
      " [ 24  22   6   1 107]\n",
      " [ 14   0  38   1 107]\n",
      " [  0   0   0   0 160]\n",
      " [  0   0   0   0 160]]\n",
      "              precision    recall  f1-score   support\n",
      "\n",
      "         0.0       0.28      0.09      0.14       160\n",
      "         1.0       1.00      0.14      0.24       160\n",
      "         2.0       0.76      0.24      0.36       160\n",
      "         3.0       0.00      0.00      0.00       160\n",
      "         4.0       0.24      1.00      0.38       160\n",
      "\n",
      "    accuracy                           0.29       800\n",
      "   macro avg       0.46      0.29      0.23       800\n",
      "weighted avg       0.46      0.29      0.23       800\n",
      "\n",
      "Sensitivity of  Non-ecotic beats (normal beat)  0.09375\n",
      "Specificity of  Non-ecotic beats (normal beat)  0.34375\n",
      "Sensitivity of  Supraventricular ectopic beats  0.1375\n",
      "Specificity of  Supraventricular ectopic beats  0.3328125\n",
      "Sensitivity of  Ventricular ectopic beats   0.2375\n",
      "Specificity of  Ventricular ectopic beats  0.3078125\n",
      "Sensitivity of  Fusion Beats  0.0\n",
      "Specificity of  Fusion Beats  0.3671875\n",
      "Sensitivity of  Unknown Beats  1.0\n",
      "Specificity of  Unknown Beats  0.1171875\n"
     ]
    }
   ],
   "source": [
    "from sklearn import metrics\n",
    "nbconfusion = metrics.confusion_matrix(y_test, nbpred)\n",
    "print(nbconfusion)\n",
    "print(metrics.classification_report(y_test, nbpred))\n",
    "speci(nbconfusion)"
   ]
  },
  {
   "cell_type": "code",
   "execution_count": 21,
   "id": "c9760961",
   "metadata": {
    "execution": {
     "iopub.execute_input": "2021-10-21T05:54:27.103112Z",
     "iopub.status.busy": "2021-10-21T05:54:27.102458Z",
     "iopub.status.idle": "2021-10-21T05:54:27.107691Z",
     "shell.execute_reply": "2021-10-21T05:54:27.108557Z",
     "shell.execute_reply.started": "2021-10-21T05:16:24.794812Z"
    },
    "papermill": {
     "duration": 0.050518,
     "end_time": "2021-10-21T05:54:27.108792",
     "exception": false,
     "start_time": "2021-10-21T05:54:27.058274",
     "status": "completed"
    },
    "tags": []
   },
   "outputs": [
    {
     "name": "stdout",
     "output_type": "stream",
     "text": [
      "Accuracy of NaiveBayes: 0.29375\n"
     ]
    }
   ],
   "source": [
    "nbaccuracy = metrics.accuracy_score(y_test, nbpred)\n",
    "print(\"Accuracy of NaiveBayes:\",nbaccuracy)"
   ]
  },
  {
   "cell_type": "code",
   "execution_count": 22,
   "id": "f7c0a9b8",
   "metadata": {
    "execution": {
     "iopub.execute_input": "2021-10-21T05:54:27.195436Z",
     "iopub.status.busy": "2021-10-21T05:54:27.194841Z",
     "iopub.status.idle": "2021-10-21T05:54:28.391208Z",
     "shell.execute_reply": "2021-10-21T05:54:28.391691Z",
     "shell.execute_reply.started": "2021-10-21T05:16:29.524941Z"
    },
    "papermill": {
     "duration": 1.240975,
     "end_time": "2021-10-21T05:54:28.391897",
     "exception": false,
     "start_time": "2021-10-21T05:54:27.150922",
     "status": "completed"
    },
    "tags": []
   },
   "outputs": [],
   "source": [
    "from sklearn.ensemble import RandomForestClassifier\n",
    "rfc= RandomForestClassifier()\n",
    "rfc.fit(x_train, y_train)\n",
    "rfcpred = rfc.predict(x_test)"
   ]
  },
  {
   "cell_type": "code",
   "execution_count": 23,
   "id": "a66e8096",
   "metadata": {
    "execution": {
     "iopub.execute_input": "2021-10-21T05:54:28.477682Z",
     "iopub.status.busy": "2021-10-21T05:54:28.477097Z",
     "iopub.status.idle": "2021-10-21T05:54:28.484823Z",
     "shell.execute_reply": "2021-10-21T05:54:28.484115Z",
     "shell.execute_reply.started": "2021-10-21T05:16:32.141847Z"
    },
    "papermill": {
     "duration": 0.051452,
     "end_time": "2021-10-21T05:54:28.485008",
     "exception": false,
     "start_time": "2021-10-21T05:54:28.433556",
     "status": "completed"
    },
    "tags": []
   },
   "outputs": [
    {
     "name": "stdout",
     "output_type": "stream",
     "text": [
      "[[130  11   6  11   2]\n",
      " [ 38 114   4   4   0]\n",
      " [ 10   3 140   6   1]\n",
      " [  7   0   5 148   0]\n",
      " [  3   0   3   0 154]]\n"
     ]
    }
   ],
   "source": [
    "rfcconfusion = metrics.confusion_matrix(y_test, rfcpred)\n",
    "print(rfcconfusion)"
   ]
  },
  {
   "cell_type": "code",
   "execution_count": 24,
   "id": "992b4ec7",
   "metadata": {
    "execution": {
     "iopub.execute_input": "2021-10-21T05:54:28.575571Z",
     "iopub.status.busy": "2021-10-21T05:54:28.574562Z",
     "iopub.status.idle": "2021-10-21T05:54:28.585503Z",
     "shell.execute_reply": "2021-10-21T05:54:28.585968Z",
     "shell.execute_reply.started": "2021-10-21T05:16:34.958535Z"
    },
    "papermill": {
     "duration": 0.058346,
     "end_time": "2021-10-21T05:54:28.586156",
     "exception": false,
     "start_time": "2021-10-21T05:54:28.527810",
     "status": "completed"
    },
    "tags": []
   },
   "outputs": [
    {
     "name": "stdout",
     "output_type": "stream",
     "text": [
      "              precision    recall  f1-score   support\n",
      "\n",
      "         0.0       0.69      0.81      0.75       160\n",
      "         1.0       0.89      0.71      0.79       160\n",
      "         2.0       0.89      0.88      0.88       160\n",
      "         3.0       0.88      0.93      0.90       160\n",
      "         4.0       0.98      0.96      0.97       160\n",
      "\n",
      "    accuracy                           0.86       800\n",
      "   macro avg       0.86      0.86      0.86       800\n",
      "weighted avg       0.86      0.86      0.86       800\n",
      "\n",
      "Sensitivity of  Non-ecotic beats (normal beat)  0.8125\n",
      "Specificity of  Non-ecotic beats (normal beat)  0.86875\n",
      "Sensitivity of  Supraventricular ectopic beats  0.7125\n",
      "Specificity of  Supraventricular ectopic beats  0.89375\n",
      "Sensitivity of  Ventricular ectopic beats   0.875\n",
      "Specificity of  Ventricular ectopic beats  0.853125\n",
      "Sensitivity of  Fusion Beats  0.925\n",
      "Specificity of  Fusion Beats  0.840625\n",
      "Sensitivity of  Unknown Beats  0.9625\n",
      "Specificity of  Unknown Beats  0.83125\n"
     ]
    }
   ],
   "source": [
    "print(metrics.classification_report(y_test, rfcpred))\n",
    "speci(rfcconfusion)"
   ]
  },
  {
   "cell_type": "code",
   "execution_count": 25,
   "id": "ee5ae4db",
   "metadata": {
    "execution": {
     "iopub.execute_input": "2021-10-21T05:54:28.674463Z",
     "iopub.status.busy": "2021-10-21T05:54:28.673826Z",
     "iopub.status.idle": "2021-10-21T05:54:28.679565Z",
     "shell.execute_reply": "2021-10-21T05:54:28.678986Z",
     "shell.execute_reply.started": "2021-10-21T05:16:38.400106Z"
    },
    "papermill": {
     "duration": 0.051592,
     "end_time": "2021-10-21T05:54:28.679725",
     "exception": false,
     "start_time": "2021-10-21T05:54:28.628133",
     "status": "completed"
    },
    "tags": []
   },
   "outputs": [
    {
     "name": "stdout",
     "output_type": "stream",
     "text": [
      "Accuracy of Randomforest: 0.8575\n"
     ]
    }
   ],
   "source": [
    "rfcaccuracy = metrics.accuracy_score(y_test, rfcpred)\n",
    "print(\"Accuracy of Randomforest:\",rfcaccuracy)"
   ]
  },
  {
   "cell_type": "code",
   "execution_count": 26,
   "id": "71b4c0ce",
   "metadata": {
    "execution": {
     "iopub.execute_input": "2021-10-21T05:54:28.767852Z",
     "iopub.status.busy": "2021-10-21T05:54:28.766950Z",
     "iopub.status.idle": "2021-10-21T05:54:29.631275Z",
     "shell.execute_reply": "2021-10-21T05:54:29.630673Z",
     "shell.execute_reply.started": "2021-10-21T05:16:40.690804Z"
    },
    "papermill": {
     "duration": 0.90981,
     "end_time": "2021-10-21T05:54:29.631471",
     "exception": false,
     "start_time": "2021-10-21T05:54:28.721661",
     "status": "completed"
    },
    "tags": []
   },
   "outputs": [],
   "source": [
    "from sklearn.svm import SVC  \n",
    "svm = SVC()\n",
    "svm.fit(x_train, y_train)\n",
    "svmpred = svm.predict(x_test)"
   ]
  },
  {
   "cell_type": "code",
   "execution_count": 27,
   "id": "257c5ab6",
   "metadata": {
    "execution": {
     "iopub.execute_input": "2021-10-21T05:54:29.723595Z",
     "iopub.status.busy": "2021-10-21T05:54:29.722957Z",
     "iopub.status.idle": "2021-10-21T05:54:29.733704Z",
     "shell.execute_reply": "2021-10-21T05:54:29.733198Z",
     "shell.execute_reply.started": "2021-10-21T05:16:44.274396Z"
    },
    "papermill": {
     "duration": 0.057598,
     "end_time": "2021-10-21T05:54:29.733880",
     "exception": false,
     "start_time": "2021-10-21T05:54:29.676282",
     "status": "completed"
    },
    "tags": []
   },
   "outputs": [
    {
     "name": "stdout",
     "output_type": "stream",
     "text": [
      "[[131   6   8  14   1]\n",
      " [ 52  95   5   6   2]\n",
      " [ 12   0 141   6   1]\n",
      " [  8   0   3 149   0]\n",
      " [ 12   0   3   1 144]]\n",
      "Sensitivity of  Non-ecotic beats (normal beat)  0.81875\n",
      "Specificity of  Non-ecotic beats (normal beat)  0.8265625\n",
      "Sensitivity of  Supraventricular ectopic beats  0.59375\n",
      "Specificity of  Supraventricular ectopic beats  0.8828125\n",
      "Sensitivity of  Ventricular ectopic beats   0.88125\n",
      "Specificity of  Ventricular ectopic beats  0.8109375\n",
      "Sensitivity of  Fusion Beats  0.93125\n",
      "Specificity of  Fusion Beats  0.7984375\n",
      "Sensitivity of  Unknown Beats  0.9\n",
      "Specificity of  Unknown Beats  0.80625\n"
     ]
    }
   ],
   "source": [
    "svmconfusion = metrics.confusion_matrix(y_test, svmpred)\n",
    "print(svmconfusion)\n",
    "speci(svmconfusion)"
   ]
  },
  {
   "cell_type": "code",
   "execution_count": 28,
   "id": "fbab57d2",
   "metadata": {
    "execution": {
     "iopub.execute_input": "2021-10-21T05:54:29.823422Z",
     "iopub.status.busy": "2021-10-21T05:54:29.822328Z",
     "iopub.status.idle": "2021-10-21T05:54:29.834169Z",
     "shell.execute_reply": "2021-10-21T05:54:29.833604Z",
     "shell.execute_reply.started": "2021-10-21T05:16:47.331016Z"
    },
    "papermill": {
     "duration": 0.057953,
     "end_time": "2021-10-21T05:54:29.834349",
     "exception": false,
     "start_time": "2021-10-21T05:54:29.776396",
     "status": "completed"
    },
    "tags": []
   },
   "outputs": [
    {
     "name": "stdout",
     "output_type": "stream",
     "text": [
      "              precision    recall  f1-score   support\n",
      "\n",
      "         0.0       0.61      0.82      0.70       160\n",
      "         1.0       0.94      0.59      0.73       160\n",
      "         2.0       0.88      0.88      0.88       160\n",
      "         3.0       0.85      0.93      0.89       160\n",
      "         4.0       0.97      0.90      0.94       160\n",
      "\n",
      "    accuracy                           0.82       800\n",
      "   macro avg       0.85      0.82      0.83       800\n",
      "weighted avg       0.85      0.82      0.83       800\n",
      "\n"
     ]
    }
   ],
   "source": [
    "print(metrics.classification_report(y_test, svmpred))"
   ]
  },
  {
   "cell_type": "code",
   "execution_count": 29,
   "id": "f5d0da27",
   "metadata": {
    "execution": {
     "iopub.execute_input": "2021-10-21T05:54:29.942453Z",
     "iopub.status.busy": "2021-10-21T05:54:29.941407Z",
     "iopub.status.idle": "2021-10-21T05:54:29.945772Z",
     "shell.execute_reply": "2021-10-21T05:54:29.946210Z",
     "shell.execute_reply.started": "2021-09-20T03:29:59.42075Z"
    },
    "papermill": {
     "duration": 0.061456,
     "end_time": "2021-10-21T05:54:29.946395",
     "exception": false,
     "start_time": "2021-10-21T05:54:29.884939",
     "status": "completed"
    },
    "tags": []
   },
   "outputs": [
    {
     "name": "stdout",
     "output_type": "stream",
     "text": [
      "Accuracy of SVM: 0.825\n"
     ]
    }
   ],
   "source": [
    "svmaccuracy = metrics.accuracy_score(y_test, svmpred)\n",
    "print(\"Accuracy of SVM:\",svmaccuracy)"
   ]
  },
  {
   "cell_type": "code",
   "execution_count": 30,
   "id": "42fecae8",
   "metadata": {
    "execution": {
     "iopub.execute_input": "2021-10-21T05:54:30.036440Z",
     "iopub.status.busy": "2021-10-21T05:54:30.035483Z",
     "iopub.status.idle": "2021-10-21T05:54:30.869687Z",
     "shell.execute_reply": "2021-10-21T05:54:30.868480Z",
     "shell.execute_reply.started": "2021-10-21T05:17:04.317234Z"
    },
    "papermill": {
     "duration": 0.880306,
     "end_time": "2021-10-21T05:54:30.869868",
     "exception": false,
     "start_time": "2021-10-21T05:54:29.989562",
     "status": "completed"
    },
    "tags": []
   },
   "outputs": [],
   "source": [
    "from sklearn.svm import SVC\n",
    "svclassifier = SVC(kernel='poly', degree=8)\n",
    "svclassifier.fit(x_train, y_train)\n",
    "svmpolypred = svclassifier.predict(x_test)"
   ]
  },
  {
   "cell_type": "code",
   "execution_count": 31,
   "id": "4ce05454",
   "metadata": {
    "execution": {
     "iopub.execute_input": "2021-10-21T05:54:30.961103Z",
     "iopub.status.busy": "2021-10-21T05:54:30.960469Z",
     "iopub.status.idle": "2021-10-21T05:54:30.965643Z",
     "shell.execute_reply": "2021-10-21T05:54:30.965107Z",
     "shell.execute_reply.started": "2021-10-21T05:17:07.019978Z"
    },
    "papermill": {
     "duration": 0.05308,
     "end_time": "2021-10-21T05:54:30.965802",
     "exception": false,
     "start_time": "2021-10-21T05:54:30.912722",
     "status": "completed"
    },
    "tags": []
   },
   "outputs": [
    {
     "name": "stdout",
     "output_type": "stream",
     "text": [
      "[[ 96   7  11  44   2]\n",
      " [ 25  85  10  39   1]\n",
      " [ 18   3 120  17   2]\n",
      " [  3   0   3 154   0]\n",
      " [ 13   0   4   2 141]]\n",
      "Sensitivity of  Non-ecotic beats (normal beat)  0.6\n",
      "Specificity of  Non-ecotic beats (normal beat)  0.78125\n",
      "Sensitivity of  Supraventricular ectopic beats  0.53125\n",
      "Specificity of  Supraventricular ectopic beats  0.7984375\n",
      "Sensitivity of  Ventricular ectopic beats   0.75\n",
      "Specificity of  Ventricular ectopic beats  0.74375\n",
      "Sensitivity of  Fusion Beats  0.9625\n",
      "Specificity of  Fusion Beats  0.690625\n",
      "Sensitivity of  Unknown Beats  0.88125\n",
      "Specificity of  Unknown Beats  0.7109375\n"
     ]
    }
   ],
   "source": [
    "svmpolyconfusion = metrics.confusion_matrix(y_test, svmpolypred)\n",
    "print(svmpolyconfusion)\n",
    "speci(svmpolyconfusion)"
   ]
  },
  {
   "cell_type": "code",
   "execution_count": 32,
   "id": "a28238c5",
   "metadata": {
    "execution": {
     "iopub.execute_input": "2021-10-21T05:54:31.056692Z",
     "iopub.status.busy": "2021-10-21T05:54:31.054669Z",
     "iopub.status.idle": "2021-10-21T05:54:31.065984Z",
     "shell.execute_reply": "2021-10-21T05:54:31.066717Z",
     "shell.execute_reply.started": "2021-10-21T05:17:09.424039Z"
    },
    "papermill": {
     "duration": 0.057721,
     "end_time": "2021-10-21T05:54:31.066935",
     "exception": false,
     "start_time": "2021-10-21T05:54:31.009214",
     "status": "completed"
    },
    "tags": []
   },
   "outputs": [
    {
     "name": "stdout",
     "output_type": "stream",
     "text": [
      "              precision    recall  f1-score   support\n",
      "\n",
      "         0.0       0.62      0.60      0.61       160\n",
      "         1.0       0.89      0.53      0.67       160\n",
      "         2.0       0.81      0.75      0.78       160\n",
      "         3.0       0.60      0.96      0.74       160\n",
      "         4.0       0.97      0.88      0.92       160\n",
      "\n",
      "    accuracy                           0.74       800\n",
      "   macro avg       0.78      0.74      0.74       800\n",
      "weighted avg       0.78      0.74      0.74       800\n",
      "\n"
     ]
    }
   ],
   "source": [
    "print(metrics.classification_report(y_test, svmpolypred))"
   ]
  },
  {
   "cell_type": "code",
   "execution_count": 33,
   "id": "ab02e950",
   "metadata": {
    "execution": {
     "iopub.execute_input": "2021-10-21T05:54:31.158774Z",
     "iopub.status.busy": "2021-10-21T05:54:31.157911Z",
     "iopub.status.idle": "2021-10-21T05:54:31.163700Z",
     "shell.execute_reply": "2021-10-21T05:54:31.164317Z",
     "shell.execute_reply.started": "2021-10-21T05:17:12.932759Z"
    },
    "papermill": {
     "duration": 0.054109,
     "end_time": "2021-10-21T05:54:31.164507",
     "exception": false,
     "start_time": "2021-10-21T05:54:31.110398",
     "status": "completed"
    },
    "tags": []
   },
   "outputs": [
    {
     "name": "stdout",
     "output_type": "stream",
     "text": [
      "Accuracy of SVM: 0.745\n"
     ]
    }
   ],
   "source": [
    "svmpolyaccuracy = metrics.accuracy_score(y_test, svmpolypred)\n",
    "print(\"Accuracy of SVM:\",svmpolyaccuracy)"
   ]
  },
  {
   "cell_type": "code",
   "execution_count": 34,
   "id": "6aefe4cf",
   "metadata": {
    "execution": {
     "iopub.execute_input": "2021-10-21T05:54:31.256756Z",
     "iopub.status.busy": "2021-10-21T05:54:31.256116Z",
     "iopub.status.idle": "2021-10-21T05:54:32.110675Z",
     "shell.execute_reply": "2021-10-21T05:54:32.111209Z",
     "shell.execute_reply.started": "2021-10-21T05:17:15.071061Z"
    },
    "papermill": {
     "duration": 0.902733,
     "end_time": "2021-10-21T05:54:32.111411",
     "exception": false,
     "start_time": "2021-10-21T05:54:31.208678",
     "status": "completed"
    },
    "tags": []
   },
   "outputs": [],
   "source": [
    "from sklearn.svm import SVC\n",
    "svclassifier = SVC(kernel='rbf')\n",
    "svclassifier.fit(x_train, y_train)\n",
    "svmrbfpred = svclassifier.predict(x_test)"
   ]
  },
  {
   "cell_type": "code",
   "execution_count": 35,
   "id": "2124719c",
   "metadata": {
    "execution": {
     "iopub.execute_input": "2021-10-21T05:54:32.226514Z",
     "iopub.status.busy": "2021-10-21T05:54:32.225564Z",
     "iopub.status.idle": "2021-10-21T05:54:32.236253Z",
     "shell.execute_reply": "2021-10-21T05:54:32.236725Z",
     "shell.execute_reply.started": "2021-10-21T05:17:29.215495Z"
    },
    "papermill": {
     "duration": 0.075758,
     "end_time": "2021-10-21T05:54:32.236988",
     "exception": false,
     "start_time": "2021-10-21T05:54:32.161230",
     "status": "completed"
    },
    "tags": []
   },
   "outputs": [
    {
     "name": "stdout",
     "output_type": "stream",
     "text": [
      "[[131   6   8  14   1]\n",
      " [ 52  95   5   6   2]\n",
      " [ 12   0 141   6   1]\n",
      " [  8   0   3 149   0]\n",
      " [ 12   0   3   1 144]]\n",
      "Sensitivity of  Non-ecotic beats (normal beat)  0.81875\n",
      "Specificity of  Non-ecotic beats (normal beat)  0.8265625\n",
      "Sensitivity of  Supraventricular ectopic beats  0.59375\n",
      "Specificity of  Supraventricular ectopic beats  0.8828125\n",
      "Sensitivity of  Ventricular ectopic beats   0.88125\n",
      "Specificity of  Ventricular ectopic beats  0.8109375\n",
      "Sensitivity of  Fusion Beats  0.93125\n",
      "Specificity of  Fusion Beats  0.7984375\n",
      "Sensitivity of  Unknown Beats  0.9\n",
      "Specificity of  Unknown Beats  0.80625\n"
     ]
    }
   ],
   "source": [
    "svmrbfconfusion = metrics.confusion_matrix(y_test, svmrbfpred)\n",
    "print(svmrbfconfusion)\n",
    "speci(svmrbfconfusion)"
   ]
  },
  {
   "cell_type": "code",
   "execution_count": 36,
   "id": "b0a1f50b",
   "metadata": {
    "execution": {
     "iopub.execute_input": "2021-10-21T05:54:32.341361Z",
     "iopub.status.busy": "2021-10-21T05:54:32.340348Z",
     "iopub.status.idle": "2021-10-21T05:54:32.349945Z",
     "shell.execute_reply": "2021-10-21T05:54:32.350452Z",
     "shell.execute_reply.started": "2021-10-21T05:17:34.137943Z"
    },
    "papermill": {
     "duration": 0.062009,
     "end_time": "2021-10-21T05:54:32.350625",
     "exception": false,
     "start_time": "2021-10-21T05:54:32.288616",
     "status": "completed"
    },
    "tags": []
   },
   "outputs": [
    {
     "name": "stdout",
     "output_type": "stream",
     "text": [
      "              precision    recall  f1-score   support\n",
      "\n",
      "         0.0       0.61      0.82      0.70       160\n",
      "         1.0       0.94      0.59      0.73       160\n",
      "         2.0       0.88      0.88      0.88       160\n",
      "         3.0       0.85      0.93      0.89       160\n",
      "         4.0       0.97      0.90      0.94       160\n",
      "\n",
      "    accuracy                           0.82       800\n",
      "   macro avg       0.85      0.82      0.83       800\n",
      "weighted avg       0.85      0.82      0.83       800\n",
      "\n"
     ]
    }
   ],
   "source": [
    "print(metrics.classification_report(y_test, svmrbfpred))"
   ]
  },
  {
   "cell_type": "code",
   "execution_count": 37,
   "id": "cace8b40",
   "metadata": {
    "execution": {
     "iopub.execute_input": "2021-10-21T05:54:32.443740Z",
     "iopub.status.busy": "2021-10-21T05:54:32.443107Z",
     "iopub.status.idle": "2021-10-21T05:54:32.447757Z",
     "shell.execute_reply": "2021-10-21T05:54:32.448416Z",
     "shell.execute_reply.started": "2021-10-21T05:17:38.441563Z"
    },
    "papermill": {
     "duration": 0.053364,
     "end_time": "2021-10-21T05:54:32.448584",
     "exception": false,
     "start_time": "2021-10-21T05:54:32.395220",
     "status": "completed"
    },
    "tags": []
   },
   "outputs": [
    {
     "name": "stdout",
     "output_type": "stream",
     "text": [
      "Accuracy of SVM: 0.825\n"
     ]
    }
   ],
   "source": [
    "svmrbfaccuracy = metrics.accuracy_score(y_test, svmrbfpred)\n",
    "print(\"Accuracy of SVM:\",svmrbfaccuracy)"
   ]
  },
  {
   "cell_type": "code",
   "execution_count": 38,
   "id": "aa9f04f1",
   "metadata": {
    "execution": {
     "iopub.execute_input": "2021-10-21T05:54:32.542756Z",
     "iopub.status.busy": "2021-10-21T05:54:32.542151Z",
     "iopub.status.idle": "2021-10-21T05:54:33.760057Z",
     "shell.execute_reply": "2021-10-21T05:54:33.759519Z",
     "shell.execute_reply.started": "2021-10-21T05:17:40.595527Z"
    },
    "papermill": {
     "duration": 1.26632,
     "end_time": "2021-10-21T05:54:33.760208",
     "exception": false,
     "start_time": "2021-10-21T05:54:32.493888",
     "status": "completed"
    },
    "tags": []
   },
   "outputs": [],
   "source": [
    "from sklearn.svm import SVC\n",
    "svclassifier = SVC(kernel='sigmoid')\n",
    "svclassifier.fit(x_train, y_train)\n",
    "svmsigpred = svclassifier.predict(x_test)"
   ]
  },
  {
   "cell_type": "code",
   "execution_count": 39,
   "id": "a7503398",
   "metadata": {
    "execution": {
     "iopub.execute_input": "2021-10-21T05:54:33.856143Z",
     "iopub.status.busy": "2021-10-21T05:54:33.855542Z",
     "iopub.status.idle": "2021-10-21T05:54:33.865203Z",
     "shell.execute_reply": "2021-10-21T05:54:33.865676Z",
     "shell.execute_reply.started": "2021-10-21T05:17:44.269695Z"
    },
    "papermill": {
     "duration": 0.06016,
     "end_time": "2021-10-21T05:54:33.865855",
     "exception": false,
     "start_time": "2021-10-21T05:54:33.805695",
     "status": "completed"
    },
    "tags": []
   },
   "outputs": [
    {
     "name": "stdout",
     "output_type": "stream",
     "text": [
      "[[ 71   7  73   5   4]\n",
      " [ 92  16  49   3   0]\n",
      " [ 63   7  73  10   7]\n",
      " [ 19   0  41 100   0]\n",
      " [109   0  33   0  18]]\n",
      "Sensitivity of  Non-ecotic beats (normal beat)  0.44375\n",
      "Specificity of  Non-ecotic beats (normal beat)  0.3234375\n",
      "Sensitivity of  Supraventricular ectopic beats  0.1\n",
      "Specificity of  Supraventricular ectopic beats  0.409375\n",
      "Sensitivity of  Ventricular ectopic beats   0.45625\n",
      "Specificity of  Ventricular ectopic beats  0.3203125\n",
      "Sensitivity of  Fusion Beats  0.625\n",
      "Specificity of  Fusion Beats  0.278125\n",
      "Sensitivity of  Unknown Beats  0.1125\n",
      "Specificity of  Unknown Beats  0.40625\n"
     ]
    }
   ],
   "source": [
    "svmsigconfusion = metrics.confusion_matrix(y_test, svmsigpred)\n",
    "print(svmsigconfusion)\n",
    "speci(svmsigconfusion)"
   ]
  },
  {
   "cell_type": "code",
   "execution_count": 40,
   "id": "73618ea6",
   "metadata": {
    "execution": {
     "iopub.execute_input": "2021-10-21T05:54:33.962550Z",
     "iopub.status.busy": "2021-10-21T05:54:33.961866Z",
     "iopub.status.idle": "2021-10-21T05:54:33.971317Z",
     "shell.execute_reply": "2021-10-21T05:54:33.970692Z",
     "shell.execute_reply.started": "2021-10-21T05:17:52.012613Z"
    },
    "papermill": {
     "duration": 0.060065,
     "end_time": "2021-10-21T05:54:33.971460",
     "exception": false,
     "start_time": "2021-10-21T05:54:33.911395",
     "status": "completed"
    },
    "tags": []
   },
   "outputs": [
    {
     "name": "stdout",
     "output_type": "stream",
     "text": [
      "              precision    recall  f1-score   support\n",
      "\n",
      "         0.0       0.20      0.44      0.28       160\n",
      "         1.0       0.53      0.10      0.17       160\n",
      "         2.0       0.27      0.46      0.34       160\n",
      "         3.0       0.85      0.62      0.72       160\n",
      "         4.0       0.62      0.11      0.19       160\n",
      "\n",
      "    accuracy                           0.35       800\n",
      "   macro avg       0.49      0.35      0.34       800\n",
      "weighted avg       0.49      0.35      0.34       800\n",
      "\n"
     ]
    }
   ],
   "source": [
    "print(metrics.classification_report(y_test, svmsigpred))"
   ]
  },
  {
   "cell_type": "code",
   "execution_count": 41,
   "id": "62dd2ba5",
   "metadata": {
    "execution": {
     "iopub.execute_input": "2021-10-21T05:54:34.068578Z",
     "iopub.status.busy": "2021-10-21T05:54:34.067886Z",
     "iopub.status.idle": "2021-10-21T05:54:34.071415Z",
     "shell.execute_reply": "2021-10-21T05:54:34.071899Z",
     "shell.execute_reply.started": "2021-10-21T05:17:56.143292Z"
    },
    "papermill": {
     "duration": 0.05437,
     "end_time": "2021-10-21T05:54:34.072063",
     "exception": false,
     "start_time": "2021-10-21T05:54:34.017693",
     "status": "completed"
    },
    "tags": []
   },
   "outputs": [
    {
     "name": "stdout",
     "output_type": "stream",
     "text": [
      "Accuracy of SVM: 0.3475\n"
     ]
    }
   ],
   "source": [
    "svmsigaccuracy = metrics.accuracy_score(y_test, svmsigpred)\n",
    "print(\"Accuracy of SVM:\",svmsigaccuracy)"
   ]
  },
  {
   "cell_type": "code",
   "execution_count": 42,
   "id": "75816827",
   "metadata": {
    "execution": {
     "iopub.execute_input": "2021-10-21T05:54:34.172849Z",
     "iopub.status.busy": "2021-10-21T05:54:34.172140Z",
     "iopub.status.idle": "2021-10-21T05:54:34.412450Z",
     "shell.execute_reply": "2021-10-21T05:54:34.411853Z",
     "shell.execute_reply.started": "2021-10-21T05:17:59.462311Z"
    },
    "papermill": {
     "duration": 0.294233,
     "end_time": "2021-10-21T05:54:34.412605",
     "exception": false,
     "start_time": "2021-10-21T05:54:34.118372",
     "status": "completed"
    },
    "tags": []
   },
   "outputs": [],
   "source": [
    "from sklearn.tree import DecisionTreeClassifier\n",
    "dt = DecisionTreeClassifier()\n",
    "dt.fit(x_train,y_train)\n",
    "dtpred = dt.predict(x_test)"
   ]
  },
  {
   "cell_type": "code",
   "execution_count": 43,
   "id": "b2319162",
   "metadata": {
    "execution": {
     "iopub.execute_input": "2021-10-21T05:54:34.511727Z",
     "iopub.status.busy": "2021-10-21T05:54:34.511084Z",
     "iopub.status.idle": "2021-10-21T05:54:34.521474Z",
     "shell.execute_reply": "2021-10-21T05:54:34.520924Z",
     "shell.execute_reply.started": "2021-10-21T05:18:02.447931Z"
    },
    "papermill": {
     "duration": 0.062596,
     "end_time": "2021-10-21T05:54:34.521626",
     "exception": false,
     "start_time": "2021-10-21T05:54:34.459030",
     "status": "completed"
    },
    "tags": []
   },
   "outputs": [
    {
     "name": "stdout",
     "output_type": "stream",
     "text": [
      "[[111  16   9  19   5]\n",
      " [ 30 112   8   7   3]\n",
      " [ 12   7 130   7   4]\n",
      " [ 20   3  16 121   0]\n",
      " [  8   0   8   0 144]]\n",
      "Sensitivity of  Non-ecotic beats (normal beat)  0.69375\n",
      "Specificity of  Non-ecotic beats (normal beat)  0.7921875\n",
      "Sensitivity of  Supraventricular ectopic beats  0.7\n",
      "Specificity of  Supraventricular ectopic beats  0.790625\n",
      "Sensitivity of  Ventricular ectopic beats   0.8125\n",
      "Specificity of  Ventricular ectopic beats  0.7625\n",
      "Sensitivity of  Fusion Beats  0.75625\n",
      "Specificity of  Fusion Beats  0.7765625\n",
      "Sensitivity of  Unknown Beats  0.9\n",
      "Specificity of  Unknown Beats  0.740625\n"
     ]
    }
   ],
   "source": [
    "dtconfusion = metrics.confusion_matrix(y_test, dtpred)\n",
    "print(dtconfusion)\n",
    "speci(dtconfusion)"
   ]
  },
  {
   "cell_type": "code",
   "execution_count": 44,
   "id": "2651e4fb",
   "metadata": {
    "execution": {
     "iopub.execute_input": "2021-10-21T05:54:34.621489Z",
     "iopub.status.busy": "2021-10-21T05:54:34.620823Z",
     "iopub.status.idle": "2021-10-21T05:54:34.630462Z",
     "shell.execute_reply": "2021-10-21T05:54:34.629398Z",
     "shell.execute_reply.started": "2021-10-21T05:18:05.990729Z"
    },
    "papermill": {
     "duration": 0.060775,
     "end_time": "2021-10-21T05:54:34.630656",
     "exception": false,
     "start_time": "2021-10-21T05:54:34.569881",
     "status": "completed"
    },
    "tags": []
   },
   "outputs": [
    {
     "name": "stdout",
     "output_type": "stream",
     "text": [
      "              precision    recall  f1-score   support\n",
      "\n",
      "         0.0       0.61      0.69      0.65       160\n",
      "         1.0       0.81      0.70      0.75       160\n",
      "         2.0       0.76      0.81      0.79       160\n",
      "         3.0       0.79      0.76      0.77       160\n",
      "         4.0       0.92      0.90      0.91       160\n",
      "\n",
      "    accuracy                           0.77       800\n",
      "   macro avg       0.78      0.77      0.77       800\n",
      "weighted avg       0.78      0.77      0.77       800\n",
      "\n"
     ]
    }
   ],
   "source": [
    "print(metrics.classification_report(y_test, dtpred))"
   ]
  },
  {
   "cell_type": "code",
   "execution_count": 45,
   "id": "64a814ac",
   "metadata": {
    "execution": {
     "iopub.execute_input": "2021-10-21T05:54:34.735419Z",
     "iopub.status.busy": "2021-10-21T05:54:34.733406Z",
     "iopub.status.idle": "2021-10-21T05:54:34.738537Z",
     "shell.execute_reply": "2021-10-21T05:54:34.737977Z",
     "shell.execute_reply.started": "2021-10-21T05:18:09.534769Z"
    },
    "papermill": {
     "duration": 0.058501,
     "end_time": "2021-10-21T05:54:34.738666",
     "exception": false,
     "start_time": "2021-10-21T05:54:34.680165",
     "status": "completed"
    },
    "tags": []
   },
   "outputs": [
    {
     "name": "stdout",
     "output_type": "stream",
     "text": [
      "Accuracy of decision tree: 0.7725\n"
     ]
    }
   ],
   "source": [
    "dtaccuracy = metrics.accuracy_score(y_test, dtpred)\n",
    "print(\"Accuracy of decision tree:\",dtaccuracy)"
   ]
  }
 ],
 "metadata": {
  "kernelspec": {
   "display_name": "Python 3",
   "language": "python",
   "name": "python3"
  },
  "language_info": {
   "codemirror_mode": {
    "name": "ipython",
    "version": 3
   },
   "file_extension": ".py",
   "mimetype": "text/x-python",
   "name": "python",
   "nbconvert_exporter": "python",
   "pygments_lexer": "ipython3",
   "version": "3.7.10"
  },
  "papermill": {
   "default_parameters": {},
   "duration": 36.783685,
   "end_time": "2021-10-21T05:54:37.550332",
   "environment_variables": {},
   "exception": null,
   "input_path": "__notebook__.ipynb",
   "output_path": "__notebook__.ipynb",
   "parameters": {},
   "start_time": "2021-10-21T05:54:00.766647",
   "version": "2.3.3"
  }
 },
 "nbformat": 4,
 "nbformat_minor": 5
}
