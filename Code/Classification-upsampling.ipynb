{
 "cells": [
  {
   "cell_type": "code",
   "execution_count": 1,
   "id": "6337dead",
   "metadata": {
    "_cell_guid": "b1076dfc-b9ad-4769-8c92-a6c4dae69d19",
    "_uuid": "8f2839f25d086af736a60e9eeb907d3b93b6e0e5",
    "execution": {
     "iopub.execute_input": "2021-09-24T09:18:39.437300Z",
     "iopub.status.busy": "2021-09-24T09:18:39.436370Z",
     "iopub.status.idle": "2021-09-24T09:18:39.453339Z",
     "shell.execute_reply": "2021-09-24T09:18:39.453838Z",
     "shell.execute_reply.started": "2021-09-24T04:26:29.289988Z"
    },
    "papermill": {
     "duration": 0.045314,
     "end_time": "2021-09-24T09:18:39.454109",
     "exception": false,
     "start_time": "2021-09-24T09:18:39.408795",
     "status": "completed"
    },
    "tags": []
   },
   "outputs": [
    {
     "name": "stdout",
     "output_type": "stream",
     "text": [
      "/kaggle/input/heartbeat/ptbdb_abnormal.csv\n",
      "/kaggle/input/heartbeat/ptbdb_normal.csv\n",
      "/kaggle/input/heartbeat/mitbih_test.csv\n",
      "/kaggle/input/heartbeat/mitbih_train.csv\n"
     ]
    }
   ],
   "source": [
    "# This Python 3 environment comes with many helpful analytics libraries installed\n",
    "# It is defined by the kaggle/python Docker image: https://github.com/kaggle/docker-python\n",
    "# For example, here's several helpful packages to load\n",
    "\n",
    "import numpy as np # linear algebra\n",
    "import pandas as pd # data processing, CSV file I/O (e.g. pd.read_csv)\n",
    "\n",
    "# Input data files are available in the read-only \"../input/\" directory\n",
    "# For example, running this (by clicking run or pressing Shift+Enter) will list all files under the input directory\n",
    "\n",
    "import os\n",
    "for dirname, _, filenames in os.walk('/kaggle/input'):\n",
    "    for filename in filenames:\n",
    "        print(os.path.join(dirname, filename))\n",
    "\n",
    "# You can write up to 20GB to the current directory (/kaggle/working/) that gets preserved as output when you create a version using \"Save & Run All\" \n",
    "# You can also write temporary files to /kaggle/temp/, but they won't be saved outside of the current session"
   ]
  },
  {
   "cell_type": "code",
   "execution_count": 2,
   "id": "faff8fa2",
   "metadata": {
    "execution": {
     "iopub.execute_input": "2021-09-24T09:18:39.496401Z",
     "iopub.status.busy": "2021-09-24T09:18:39.493949Z",
     "iopub.status.idle": "2021-09-24T09:18:44.933786Z",
     "shell.execute_reply": "2021-09-24T09:18:44.932820Z",
     "shell.execute_reply.started": "2021-09-24T09:15:44.331676Z"
    },
    "papermill": {
     "duration": 5.460405,
     "end_time": "2021-09-24T09:18:44.933937",
     "exception": false,
     "start_time": "2021-09-24T09:18:39.473532",
     "status": "completed"
    },
    "tags": []
   },
   "outputs": [
    {
     "name": "stderr",
     "output_type": "stream",
     "text": [
      "2021-09-24 09:18:40.867896: W tensorflow/stream_executor/platform/default/dso_loader.cc:60] Could not load dynamic library 'libcudart.so.11.0'; dlerror: libcudart.so.11.0: cannot open shared object file: No such file or directory; LD_LIBRARY_PATH: /opt/conda/lib\n",
      "2021-09-24 09:18:40.868014: I tensorflow/stream_executor/cuda/cudart_stub.cc:29] Ignore above cudart dlerror if you do not have a GPU set up on your machine.\n"
     ]
    }
   ],
   "source": [
    "import numpy as np\n",
    "import pandas as pd\n",
    "from sklearn.model_selection import train_test_split\n",
    "import matplotlib.pyplot as plt\n",
    "import tensorflow as tf"
   ]
  },
  {
   "cell_type": "code",
   "execution_count": 3,
   "id": "0bd3ddd2",
   "metadata": {
    "execution": {
     "iopub.execute_input": "2021-09-24T09:18:44.976330Z",
     "iopub.status.busy": "2021-09-24T09:18:44.975463Z",
     "iopub.status.idle": "2021-09-24T09:18:54.145877Z",
     "shell.execute_reply": "2021-09-24T09:18:54.146312Z",
     "shell.execute_reply.started": "2021-09-24T09:15:47.279192Z"
    },
    "papermill": {
     "duration": 9.193876,
     "end_time": "2021-09-24T09:18:54.146497",
     "exception": false,
     "start_time": "2021-09-24T09:18:44.952621",
     "status": "completed"
    },
    "tags": []
   },
   "outputs": [],
   "source": [
    "dfs = [pd.read_csv('../input/heartbeat/mitbih_train.csv'),pd.read_csv('../input/heartbeat/mitbih_test.csv')]"
   ]
  },
  {
   "cell_type": "code",
   "execution_count": 4,
   "id": "5fb7502e",
   "metadata": {
    "execution": {
     "iopub.execute_input": "2021-09-24T09:18:54.187505Z",
     "iopub.status.busy": "2021-09-24T09:18:54.186930Z",
     "iopub.status.idle": "2021-09-24T09:18:54.190792Z",
     "shell.execute_reply": "2021-09-24T09:18:54.191331Z",
     "shell.execute_reply.started": "2021-09-24T09:15:55.098188Z"
    },
    "papermill": {
     "duration": 0.025938,
     "end_time": "2021-09-24T09:18:54.191484",
     "exception": false,
     "start_time": "2021-09-24T09:18:54.165546",
     "status": "completed"
    },
    "tags": []
   },
   "outputs": [],
   "source": [
    "for df in dfs:\n",
    "    df.columns=list(range(len(df.columns)))"
   ]
  },
  {
   "cell_type": "code",
   "execution_count": 5,
   "id": "13cc616a",
   "metadata": {
    "execution": {
     "iopub.execute_input": "2021-09-24T09:18:54.233381Z",
     "iopub.status.busy": "2021-09-24T09:18:54.232632Z",
     "iopub.status.idle": "2021-09-24T09:18:54.315835Z",
     "shell.execute_reply": "2021-09-24T09:18:54.315338Z",
     "shell.execute_reply.started": "2021-09-24T09:16:07.186682Z"
    },
    "papermill": {
     "duration": 0.105839,
     "end_time": "2021-09-24T09:18:54.315983",
     "exception": false,
     "start_time": "2021-09-24T09:18:54.210144",
     "status": "completed"
    },
    "tags": []
   },
   "outputs": [],
   "source": [
    "train = dfs[0].rename({187: 'Label'}, axis=1)\n",
    "test = dfs[1].rename({187: 'Label'}, axis=1)"
   ]
  },
  {
   "cell_type": "code",
   "execution_count": 6,
   "id": "c869ba93",
   "metadata": {
    "execution": {
     "iopub.execute_input": "2021-09-24T09:18:54.372900Z",
     "iopub.status.busy": "2021-09-24T09:18:54.372218Z",
     "iopub.status.idle": "2021-09-24T09:18:54.578490Z",
     "shell.execute_reply": "2021-09-24T09:18:54.578027Z",
     "shell.execute_reply.started": "2021-09-24T09:16:10.333291Z"
    },
    "papermill": {
     "duration": 0.244623,
     "end_time": "2021-09-24T09:18:54.578644",
     "exception": false,
     "start_time": "2021-09-24T09:18:54.334021",
     "status": "completed"
    },
    "tags": []
   },
   "outputs": [
    {
     "data": {
      "text/plain": [
       "[<matplotlib.lines.Line2D at 0x7feb2bcaa650>]"
      ]
     },
     "execution_count": 6,
     "metadata": {},
     "output_type": "execute_result"
    },
    {
     "data": {
      "image/png": "[encoded data removed]",
      "text/plain": [
       "<Figure size 432x288 with 1 Axes>"
      ]
     },
     "metadata": {
      "needs_background": "light"
     },
     "output_type": "display_data"
    }
   ],
   "source": [
    "plt.plot(train.iloc[0,:186])"
   ]
  },
  {
   "cell_type": "code",
   "execution_count": 7,
   "id": "855755c4",
   "metadata": {
    "execution": {
     "iopub.execute_input": "2021-09-24T09:18:54.629767Z",
     "iopub.status.busy": "2021-09-24T09:18:54.629087Z",
     "iopub.status.idle": "2021-09-24T09:18:54.633219Z",
     "shell.execute_reply": "2021-09-24T09:18:54.632434Z",
     "shell.execute_reply.started": "2021-09-24T09:16:17.799675Z"
    },
    "papermill": {
     "duration": 0.035171,
     "end_time": "2021-09-24T09:18:54.633413",
     "exception": false,
     "start_time": "2021-09-24T09:18:54.598242",
     "status": "completed"
    },
    "tags": []
   },
   "outputs": [
    {
     "name": "stdout",
     "output_type": "stream",
     "text": [
      "0.0    72470\n",
      "4.0     6431\n",
      "2.0     5788\n",
      "1.0     2223\n",
      "3.0      641\n",
      "Name: Label, dtype: int64\n"
     ]
    }
   ],
   "source": [
    "count=train['Label'].value_counts()\n",
    "print(count)"
   ]
  },
  {
   "cell_type": "code",
   "execution_count": 8,
   "id": "0fd56e1a",
   "metadata": {
    "execution": {
     "iopub.execute_input": "2021-09-24T09:18:54.677641Z",
     "iopub.status.busy": "2021-09-24T09:18:54.677070Z",
     "iopub.status.idle": "2021-09-24T09:18:54.683535Z",
     "shell.execute_reply": "2021-09-24T09:18:54.683088Z",
     "shell.execute_reply.started": "2021-09-24T09:16:24.805736Z"
    },
    "papermill": {
     "duration": 0.029046,
     "end_time": "2021-09-24T09:18:54.683690",
     "exception": false,
     "start_time": "2021-09-24T09:18:54.654644",
     "status": "completed"
    },
    "tags": []
   },
   "outputs": [
    {
     "name": "stdout",
     "output_type": "stream",
     "text": [
      "0.0    18117\n",
      "4.0     1608\n",
      "2.0     1448\n",
      "1.0      556\n",
      "3.0      162\n",
      "Name: Label, dtype: int64\n"
     ]
    }
   ],
   "source": [
    "count=test['Label'].value_counts()\n",
    "print(count)"
   ]
  },
  {
   "cell_type": "code",
   "execution_count": 9,
   "id": "194b76eb",
   "metadata": {
    "execution": {
     "iopub.execute_input": "2021-09-24T09:18:54.730446Z",
     "iopub.status.busy": "2021-09-24T09:18:54.729835Z",
     "iopub.status.idle": "2021-09-24T09:18:55.067444Z",
     "shell.execute_reply": "2021-09-24T09:18:55.066805Z",
     "shell.execute_reply.started": "2021-09-24T09:16:27.343647Z"
    },
    "papermill": {
     "duration": 0.364181,
     "end_time": "2021-09-24T09:18:55.067577",
     "exception": false,
     "start_time": "2021-09-24T09:18:54.703396",
     "status": "completed"
    },
    "tags": []
   },
   "outputs": [],
   "source": [
    "from sklearn.utils import resample\n",
    "df_1=train[train['Label']==1]\n",
    "df_2=train[train['Label']==2]\n",
    "df_3=train[train['Label']==3]\n",
    "df_4=train[train['Label']==4]\n",
    "df_0=(train[train['Label']==0]).sample(n=35000,random_state=42)\n",
    "\n",
    "df_1_upsample=resample(df_1,replace=True,n_samples=35000,random_state=42)\n",
    "df_2_upsample=resample(df_2,replace=True,n_samples=35000,random_state=42)\n",
    "df_3_upsample=resample(df_3,replace=True,n_samples=35000,random_state=42)\n",
    "df_4_upsample=resample(df_4,replace=True,n_samples=35000,random_state=42)\n",
    "\n",
    "train=pd.concat([df_0,df_1_upsample,df_2_upsample,df_3_upsample,df_4_upsample])"
   ]
  },
  {
   "cell_type": "code",
   "execution_count": 10,
   "id": "a2af4ca9",
   "metadata": {
    "execution": {
     "iopub.execute_input": "2021-09-24T09:18:55.119842Z",
     "iopub.status.busy": "2021-09-24T09:18:55.117660Z",
     "iopub.status.idle": "2021-09-24T09:18:55.237515Z",
     "shell.execute_reply": "2021-09-24T09:18:55.236916Z",
     "shell.execute_reply.started": "2021-09-24T09:16:32.721031Z"
    },
    "papermill": {
     "duration": 0.148285,
     "end_time": "2021-09-24T09:18:55.237663",
     "exception": false,
     "start_time": "2021-09-24T09:18:55.089378",
     "status": "completed"
    },
    "tags": []
   },
   "outputs": [],
   "source": [
    "from sklearn.utils import resample\n",
    "df_1=test[test['Label']==1]\n",
    "df_2=test[test['Label']==2]\n",
    "df_3=test[test['Label']==3]\n",
    "df_4=test[test['Label']==4]\n",
    "df_0=(test[test['Label']==0]).sample(n=15000,random_state=42)\n",
    "\n",
    "df_1_upsample=resample(df_1,replace=True,n_samples=15000,random_state=42)\n",
    "df_2_upsample=resample(df_2,replace=True,n_samples=15000,random_state=42)\n",
    "df_3_upsample=resample(df_3,replace=True,n_samples=15000,random_state=42)\n",
    "df_4_upsample=resample(df_4,replace=True,n_samples=15000,random_state=42)\n",
    "\n",
    "test=pd.concat([df_0,df_1_upsample,df_2_upsample,df_3_upsample,df_4_upsample])"
   ]
  },
  {
   "cell_type": "code",
   "execution_count": 11,
   "id": "bfb1ca34",
   "metadata": {
    "execution": {
     "iopub.execute_input": "2021-09-24T09:18:55.286014Z",
     "iopub.status.busy": "2021-09-24T09:18:55.280522Z",
     "iopub.status.idle": "2021-09-24T09:18:55.289334Z",
     "shell.execute_reply": "2021-09-24T09:18:55.288778Z",
     "shell.execute_reply.started": "2021-09-24T09:16:38.419123Z"
    },
    "papermill": {
     "duration": 0.031745,
     "end_time": "2021-09-24T09:18:55.289471",
     "exception": false,
     "start_time": "2021-09-24T09:18:55.257726",
     "status": "completed"
    },
    "tags": []
   },
   "outputs": [
    {
     "name": "stdout",
     "output_type": "stream",
     "text": [
      "0.0    35000\n",
      "1.0    35000\n",
      "2.0    35000\n",
      "3.0    35000\n",
      "4.0    35000\n",
      "Name: Label, dtype: int64\n"
     ]
    }
   ],
   "source": [
    "count=train['Label'].value_counts()\n",
    "print(count)"
   ]
  },
  {
   "cell_type": "code",
   "execution_count": 12,
   "id": "6be59f4b",
   "metadata": {
    "execution": {
     "iopub.execute_input": "2021-09-24T09:18:55.337672Z",
     "iopub.status.busy": "2021-09-24T09:18:55.337054Z",
     "iopub.status.idle": "2021-09-24T09:18:55.340893Z",
     "shell.execute_reply": "2021-09-24T09:18:55.340310Z",
     "shell.execute_reply.started": "2021-09-24T09:16:44.646785Z"
    },
    "papermill": {
     "duration": 0.030773,
     "end_time": "2021-09-24T09:18:55.341038",
     "exception": false,
     "start_time": "2021-09-24T09:18:55.310265",
     "status": "completed"
    },
    "tags": []
   },
   "outputs": [
    {
     "name": "stdout",
     "output_type": "stream",
     "text": [
      "0.0    15000\n",
      "1.0    15000\n",
      "2.0    15000\n",
      "3.0    15000\n",
      "4.0    15000\n",
      "Name: Label, dtype: int64\n"
     ]
    }
   ],
   "source": [
    "count=test['Label'].value_counts()\n",
    "print(count)"
   ]
  },
  {
   "cell_type": "code",
   "execution_count": 13,
   "id": "ec55dc69",
   "metadata": {
    "execution": {
     "iopub.execute_input": "2021-09-24T09:18:55.480423Z",
     "iopub.status.busy": "2021-09-24T09:18:55.479642Z",
     "iopub.status.idle": "2021-09-24T09:18:55.482635Z",
     "shell.execute_reply": "2021-09-24T09:18:55.483080Z",
     "shell.execute_reply.started": "2021-09-24T09:17:06.399136Z"
    },
    "papermill": {
     "duration": 0.121911,
     "end_time": "2021-09-24T09:18:55.483243",
     "exception": false,
     "start_time": "2021-09-24T09:18:55.361332",
     "status": "completed"
    },
    "tags": []
   },
   "outputs": [],
   "source": [
    "x_train=train.drop('Label',axis=1)\n",
    "y_train=train['Label']"
   ]
  },
  {
   "cell_type": "code",
   "execution_count": 14,
   "id": "66b26521",
   "metadata": {
    "execution": {
     "iopub.execute_input": "2021-09-24T09:18:55.574008Z",
     "iopub.status.busy": "2021-09-24T09:18:55.573364Z",
     "iopub.status.idle": "2021-09-24T09:18:55.575772Z",
     "shell.execute_reply": "2021-09-24T09:18:55.576159Z",
     "shell.execute_reply.started": "2021-09-24T09:17:10.827688Z"
    },
    "papermill": {
     "duration": 0.072861,
     "end_time": "2021-09-24T09:18:55.576319",
     "exception": false,
     "start_time": "2021-09-24T09:18:55.503458",
     "status": "completed"
    },
    "tags": []
   },
   "outputs": [],
   "source": [
    "x_test=test.drop('Label',axis=1)\n",
    "y_test=test['Label']"
   ]
  },
  {
   "cell_type": "code",
   "execution_count": 15,
   "id": "51891b6c",
   "metadata": {
    "execution": {
     "iopub.execute_input": "2021-09-24T09:18:55.622009Z",
     "iopub.status.busy": "2021-09-24T09:18:55.619746Z",
     "iopub.status.idle": "2021-09-24T09:25:09.430986Z",
     "shell.execute_reply": "2021-09-24T09:25:09.431705Z",
     "shell.execute_reply.started": "2021-09-24T09:14:31.935438Z"
    },
    "papermill": {
     "duration": 373.835348,
     "end_time": "2021-09-24T09:25:09.432177",
     "exception": false,
     "start_time": "2021-09-24T09:18:55.596829",
     "status": "completed"
    },
    "tags": []
   },
   "outputs": [],
   "source": [
    "from sklearn import metrics\n",
    "from sklearn.neighbors import KNeighborsClassifier\n",
    "knn = KNeighborsClassifier(n_neighbors=5)\n",
    "knn.fit(x_train, y_train)\n",
    "knnpred = knn.predict(x_test)"
   ]
  },
  {
   "cell_type": "code",
   "execution_count": 16,
   "id": "0c4e5ae8",
   "metadata": {
    "execution": {
     "iopub.execute_input": "2021-09-24T09:25:09.490026Z",
     "iopub.status.busy": "2021-09-24T09:25:09.484901Z",
     "iopub.status.idle": "2021-09-24T09:25:09.496691Z",
     "shell.execute_reply": "2021-09-24T09:25:09.496164Z",
     "shell.execute_reply.started": "2021-09-24T04:40:14.877391Z"
    },
    "papermill": {
     "duration": 0.040993,
     "end_time": "2021-09-24T09:25:09.496839",
     "exception": false,
     "start_time": "2021-09-24T09:25:09.455846",
     "status": "completed"
    },
    "tags": []
   },
   "outputs": [],
   "source": [
    "def speci(kcm):\n",
    "    total=sum(sum(kcm))\n",
    "    sensitivity1 = kcm[0,0]/(kcm[0,0]+kcm[0,1]+kcm[0,2]+kcm[0,3]+kcm[0,4])\n",
    "    print('Sensitivity of  Non-ecotic beats (normal beat) ', sensitivity1 )\n",
    "    specificity1 = (kcm[1,1]+kcm[2,2]+kcm[3,3]+kcm[4,4])/(total-(kcm[0,0]+kcm[0,1]+kcm[0,2]+kcm[0,3]+kcm[0,4]))\n",
    "    print('Specificity of  Non-ecotic beats (normal beat) ', specificity1)\n",
    "    sensitivity1 = kcm[1,1]/(kcm[1,0]+kcm[1,1]+kcm[1,2]+kcm[1,3]+kcm[1,4])\n",
    "    print('Sensitivity of  Supraventricular ectopic beats ', sensitivity1 )\n",
    "    specificity1 = (kcm[0,0]+kcm[2,2]+kcm[3,3]+kcm[4,4])/(total-(kcm[1,0]+kcm[1,1]+kcm[1,2]+kcm[1,3]+kcm[1,4]))\n",
    "    print('Specificity of  Supraventricular ectopic beats ', specificity1)\n",
    "    sensitivity1 = kcm[2,2]/(kcm[2,0]+kcm[2,1]+kcm[2,2]+kcm[2,3]+kcm[2,4])\n",
    "    print('Sensitivity of  Ventricular ectopic beats  ', sensitivity1 )\n",
    "    specificity1 = (kcm[1,1]+kcm[0,0]+kcm[3,3]+kcm[4,4])/(total-(kcm[2,0]+kcm[2,1]+kcm[2,2]+kcm[2,3]+kcm[2,4]))\n",
    "    print('Specificity of  Ventricular ectopic beats ', specificity1)\n",
    "    sensitivity1 = kcm[3,3]/(kcm[3,0]+kcm[3,1]+kcm[3,2]+kcm[3,3]+kcm[3,4])\n",
    "    print('Sensitivity of  Fusion Beats ', sensitivity1 )\n",
    "    specificity1 = (kcm[1,1]+kcm[2,2]+kcm[0,0]+kcm[4,4])/(total-(kcm[3,0]+kcm[3,1]+kcm[3,2]+kcm[3,3]+kcm[3,4]))\n",
    "    print('Specificity of  Fusion Beats ', specificity1)\n",
    "    sensitivity1 = kcm[4,4]/(kcm[4,0]+kcm[4,1]+kcm[4,2]+kcm[4,3]+kcm[4,4])\n",
    "    print('Sensitivity of  Unknown Beats ', sensitivity1 )\n",
    "    specificity1 = (kcm[1,1]+kcm[2,2]+kcm[3,3]+kcm[0,0])/(total-(kcm[4,0]+kcm[4,1]+kcm[4,2]+kcm[4,3]+kcm[4,4]))\n",
    "    print('Specificity of  Unknown Beats ', specificity1)\n",
    "    "
   ]
  },
  {
   "cell_type": "code",
   "execution_count": 17,
   "id": "23f5db52",
   "metadata": {
    "execution": {
     "iopub.execute_input": "2021-09-24T09:25:09.544239Z",
     "iopub.status.busy": "2021-09-24T09:25:09.543647Z",
     "iopub.status.idle": "2021-09-24T09:25:09.745808Z",
     "shell.execute_reply": "2021-09-24T09:25:09.745013Z",
     "shell.execute_reply.started": "2021-09-24T04:53:24.672067Z"
    },
    "papermill": {
     "duration": 0.228553,
     "end_time": "2021-09-24T09:25:09.746000",
     "exception": false,
     "start_time": "2021-09-24T09:25:09.517447",
     "status": "completed"
    },
    "tags": []
   },
   "outputs": [
    {
     "name": "stdout",
     "output_type": "stream",
     "text": [
      "[[14334   327   213    61    65]\n",
      " [ 2309 11969   519   150    53]\n",
      " [  328   103 14229   259    81]\n",
      " [ 1110   101  1649 12140     0]\n",
      " [  263    10    88     0 14639]]\n",
      "              precision    recall  f1-score   support\n",
      "\n",
      "         0.0       0.78      0.96      0.86     15000\n",
      "         1.0       0.96      0.80      0.87     15000\n",
      "         2.0       0.85      0.95      0.90     15000\n",
      "         3.0       0.96      0.81      0.88     15000\n",
      "         4.0       0.99      0.98      0.98     15000\n",
      "\n",
      "    accuracy                           0.90     75000\n",
      "   macro avg       0.91      0.90      0.90     75000\n",
      "weighted avg       0.91      0.90      0.90     75000\n",
      "\n",
      "Accuracy of KNN: 0.89748\n",
      "Sensitivity of  Non-ecotic beats (normal beat)  0.9556\n",
      "Specificity of  Non-ecotic beats (normal beat)  0.88295\n",
      "Sensitivity of  Supraventricular ectopic beats  0.7979333333333334\n",
      "Specificity of  Supraventricular ectopic beats  0.9223666666666667\n",
      "Sensitivity of  Ventricular ectopic beats   0.9486\n",
      "Specificity of  Ventricular ectopic beats  0.8847\n",
      "Sensitivity of  Fusion Beats  0.8093333333333333\n",
      "Specificity of  Fusion Beats  0.9195166666666666\n",
      "Sensitivity of  Unknown Beats  0.9759333333333333\n",
      "Specificity of  Unknown Beats  0.8778666666666667\n"
     ]
    }
   ],
   "source": [
    "kcm = metrics.confusion_matrix(y_test, knnpred)\n",
    "print(kcm)\n",
    "print(metrics.classification_report(y_test, knnpred))\n",
    "knnaccuracy = metrics.accuracy_score(y_test, knnpred)\n",
    "print(\"Accuracy of KNN:\",knnaccuracy)\n",
    "speci(kcm)"
   ]
  },
  {
   "cell_type": "code",
   "execution_count": 18,
   "id": "0d870aa6",
   "metadata": {
    "execution": {
     "iopub.execute_input": "2021-09-24T09:25:09.799005Z",
     "iopub.status.busy": "2021-09-24T09:25:09.798087Z",
     "iopub.status.idle": "2021-09-24T10:14:16.802540Z",
     "shell.execute_reply": "2021-09-24T10:14:16.803282Z",
     "shell.execute_reply.started": "2021-09-24T04:53:53.900897Z"
    },
    "papermill": {
     "duration": 2947.035933,
     "end_time": "2021-09-24T10:14:16.803571",
     "exception": false,
     "start_time": "2021-09-24T09:25:09.767638",
     "status": "completed"
    },
    "tags": []
   },
   "outputs": [],
   "source": [
    "from sklearn.svm import SVC  \n",
    "svm = SVC()\n",
    "svm.fit(x_train, y_train)\n",
    "svmpred = svm.predict(x_test)"
   ]
  },
  {
   "cell_type": "code",
   "execution_count": 19,
   "id": "c66ee463",
   "metadata": {
    "execution": {
     "iopub.execute_input": "2021-09-24T10:14:16.877471Z",
     "iopub.status.busy": "2021-09-24T10:14:16.876281Z",
     "iopub.status.idle": "2021-09-24T10:14:17.077425Z",
     "shell.execute_reply": "2021-09-24T10:14:17.076739Z",
     "shell.execute_reply.started": "2021-09-24T05:48:05.935511Z"
    },
    "papermill": {
     "duration": 0.244133,
     "end_time": "2021-09-24T10:14:17.077627",
     "exception": false,
     "start_time": "2021-09-24T10:14:16.833494",
     "status": "completed"
    },
    "tags": []
   },
   "outputs": [
    {
     "name": "stdout",
     "output_type": "stream",
     "text": [
      "[[13595   678   160   512    55]\n",
      " [ 2122 12431   224   148    75]\n",
      " [  468    77 13789   613    53]\n",
      " [  281   101   662 13956     0]\n",
      " [  219    51    83     0 14647]]\n",
      "              precision    recall  f1-score   support\n",
      "\n",
      "         0.0       0.81      0.91      0.86     15000\n",
      "         1.0       0.93      0.83      0.88     15000\n",
      "         2.0       0.92      0.92      0.92     15000\n",
      "         3.0       0.92      0.93      0.92     15000\n",
      "         4.0       0.99      0.98      0.98     15000\n",
      "\n",
      "    accuracy                           0.91     75000\n",
      "   macro avg       0.92      0.91      0.91     75000\n",
      "weighted avg       0.92      0.91      0.91     75000\n",
      "\n",
      "Accuracy of SVM: 0.91224\n",
      "Sensitivity of  Non-ecotic beats (normal beat)  0.9063333333333333\n",
      "Specificity of  Non-ecotic beats (normal beat)  0.9137166666666666\n",
      "Sensitivity of  Supraventricular ectopic beats  0.8287333333333333\n",
      "Specificity of  Supraventricular ectopic beats  0.9331166666666667\n",
      "Sensitivity of  Ventricular ectopic beats   0.9192666666666667\n",
      "Specificity of  Ventricular ectopic beats  0.9104833333333333\n",
      "Sensitivity of  Fusion Beats  0.9304\n",
      "Specificity of  Fusion Beats  0.9077\n",
      "Sensitivity of  Unknown Beats  0.9764666666666667\n",
      "Specificity of  Unknown Beats  0.8961833333333333\n"
     ]
    }
   ],
   "source": [
    "svmconfusion = metrics.confusion_matrix(y_test, svmpred)\n",
    "print(svmconfusion)\n",
    "print(metrics.classification_report(y_test, svmpred))\n",
    "svmaccuracy = metrics.accuracy_score(y_test, svmpred)\n",
    "print(\"Accuracy of SVM:\",svmaccuracy)\n",
    "speci(svmconfusion)"
   ]
  },
  {
   "cell_type": "code",
   "execution_count": 20,
   "id": "0fa05f5d",
   "metadata": {
    "execution": {
     "iopub.execute_input": "2021-09-24T10:14:17.135794Z",
     "iopub.status.busy": "2021-09-24T10:14:17.134481Z",
     "iopub.status.idle": "2021-09-24T11:17:12.979471Z",
     "shell.execute_reply": "2021-09-24T11:17:12.977515Z",
     "shell.execute_reply.started": "2021-09-24T09:12:50.188554Z"
    },
    "papermill": {
     "duration": 3775.876482,
     "end_time": "2021-09-24T11:17:12.980284",
     "exception": false,
     "start_time": "2021-09-24T10:14:17.103802",
     "status": "completed"
    },
    "tags": []
   },
   "outputs": [],
   "source": [
    "from sklearn.svm import SVC\n",
    "svclassifier = SVC(kernel='poly', degree=8)\n",
    "svclassifier.fit(x_train, y_train)\n",
    "svmpolypred = svclassifier.predict(x_test)"
   ]
  },
  {
   "cell_type": "code",
   "execution_count": 21,
   "id": "81a3c5bf",
   "metadata": {
    "execution": {
     "iopub.execute_input": "2021-09-24T11:17:13.044270Z",
     "iopub.status.busy": "2021-09-24T11:17:13.043564Z",
     "iopub.status.idle": "2021-09-24T11:17:13.251533Z",
     "shell.execute_reply": "2021-09-24T11:17:13.250617Z",
     "shell.execute_reply.started": "2021-09-24T09:12:42.325917Z"
    },
    "papermill": {
     "duration": 0.240982,
     "end_time": "2021-09-24T11:17:13.251694",
     "exception": false,
     "start_time": "2021-09-24T11:17:13.010712",
     "status": "completed"
    },
    "tags": []
   },
   "outputs": [
    {
     "name": "stdout",
     "output_type": "stream",
     "text": [
      "[[14330   152   124   355    39]\n",
      " [ 4833  9583   435   111    38]\n",
      " [ 1132    61 13149   620    38]\n",
      " [ 2180     0   551 12269     0]\n",
      " [ 1106     0    62     9 13823]]\n",
      "              precision    recall  f1-score   support\n",
      "\n",
      "         0.0       0.61      0.96      0.74     15000\n",
      "         1.0       0.98      0.64      0.77     15000\n",
      "         2.0       0.92      0.88      0.90     15000\n",
      "         3.0       0.92      0.82      0.87     15000\n",
      "         4.0       0.99      0.92      0.96     15000\n",
      "\n",
      "    accuracy                           0.84     75000\n",
      "   macro avg       0.88      0.84      0.85     75000\n",
      "weighted avg       0.88      0.84      0.85     75000\n",
      "\n",
      "Accuracy of SVM: 0.8420533333333333\n",
      "Sensitivity of  Non-ecotic beats (normal beat)  0.9553333333333334\n",
      "Specificity of  Non-ecotic beats (normal beat)  0.8137333333333333\n",
      "Sensitivity of  Supraventricular ectopic beats  0.6388666666666667\n",
      "Specificity of  Supraventricular ectopic beats  0.89285\n",
      "Sensitivity of  Ventricular ectopic beats   0.8766\n",
      "Specificity of  Ventricular ectopic beats  0.8334166666666667\n",
      "Sensitivity of  Fusion Beats  0.8179333333333333\n",
      "Specificity of  Fusion Beats  0.8480833333333333\n",
      "Sensitivity of  Unknown Beats  0.9215333333333333\n",
      "Specificity of  Unknown Beats  0.8221833333333334\n"
     ]
    }
   ],
   "source": [
    "from sklearn import metrics\n",
    "svmpolyconfusion = metrics.confusion_matrix(y_test, svmpolypred)\n",
    "print(svmpolyconfusion)\n",
    "print(metrics.classification_report(y_test, svmpolypred))\n",
    "svmpolyaccuracy = metrics.accuracy_score(y_test, svmpolypred)\n",
    "print(\"Accuracy of SVM:\",svmpolyaccuracy)\n",
    "speci(svmpolyconfusion)"
   ]
  },
  {
   "cell_type": "code",
   "execution_count": 22,
   "id": "8f27a337",
   "metadata": {
    "execution": {
     "iopub.execute_input": "2021-09-24T11:17:13.304690Z",
     "iopub.status.busy": "2021-09-24T11:17:13.304054Z",
     "iopub.status.idle": "2021-09-24T12:06:29.938818Z",
     "shell.execute_reply": "2021-09-24T12:06:29.940268Z"
    },
    "papermill": {
     "duration": 2956.668415,
     "end_time": "2021-09-24T12:06:29.941592",
     "exception": false,
     "start_time": "2021-09-24T11:17:13.273177",
     "status": "completed"
    },
    "tags": []
   },
   "outputs": [],
   "source": [
    "from sklearn.svm import SVC\n",
    "svclassifier = SVC(kernel='rbf')\n",
    "svclassifier.fit(x_train, y_train)\n",
    "svmrbfpred = svclassifier.predict(x_test)"
   ]
  },
  {
   "cell_type": "code",
   "execution_count": 23,
   "id": "9655418e",
   "metadata": {
    "execution": {
     "iopub.execute_input": "2021-09-24T12:06:30.002554Z",
     "iopub.status.busy": "2021-09-24T12:06:30.001745Z",
     "iopub.status.idle": "2021-09-24T12:06:30.201679Z",
     "shell.execute_reply": "2021-09-24T12:06:30.201087Z"
    },
    "papermill": {
     "duration": 0.227162,
     "end_time": "2021-09-24T12:06:30.201828",
     "exception": false,
     "start_time": "2021-09-24T12:06:29.974666",
     "status": "completed"
    },
    "tags": []
   },
   "outputs": [
    {
     "name": "stdout",
     "output_type": "stream",
     "text": [
      "[[13595   678   160   512    55]\n",
      " [ 2122 12431   224   148    75]\n",
      " [  468    77 13789   613    53]\n",
      " [  281   101   662 13956     0]\n",
      " [  219    51    83     0 14647]]\n",
      "              precision    recall  f1-score   support\n",
      "\n",
      "         0.0       0.81      0.91      0.86     15000\n",
      "         1.0       0.93      0.83      0.88     15000\n",
      "         2.0       0.92      0.92      0.92     15000\n",
      "         3.0       0.92      0.93      0.92     15000\n",
      "         4.0       0.99      0.98      0.98     15000\n",
      "\n",
      "    accuracy                           0.91     75000\n",
      "   macro avg       0.92      0.91      0.91     75000\n",
      "weighted avg       0.92      0.91      0.91     75000\n",
      "\n",
      "Accuracy of SVM: 0.91224\n",
      "Sensitivity of  Non-ecotic beats (normal beat)  0.9063333333333333\n",
      "Specificity of  Non-ecotic beats (normal beat)  0.9137166666666666\n",
      "Sensitivity of  Supraventricular ectopic beats  0.8287333333333333\n",
      "Specificity of  Supraventricular ectopic beats  0.9331166666666667\n",
      "Sensitivity of  Ventricular ectopic beats   0.9192666666666667\n",
      "Specificity of  Ventricular ectopic beats  0.9104833333333333\n",
      "Sensitivity of  Fusion Beats  0.9304\n",
      "Specificity of  Fusion Beats  0.9077\n",
      "Sensitivity of  Unknown Beats  0.9764666666666667\n",
      "Specificity of  Unknown Beats  0.8961833333333333\n"
     ]
    }
   ],
   "source": [
    "svmrbfconfusion = metrics.confusion_matrix(y_test, svmrbfpred)\n",
    "print(svmrbfconfusion)\n",
    "print(metrics.classification_report(y_test, svmrbfpred))\n",
    "svmrbfaccuracy = metrics.accuracy_score(y_test, svmrbfpred)\n",
    "print(\"Accuracy of SVM:\",svmrbfaccuracy)\n",
    "speci(svmrbfconfusion)"
   ]
  },
  {
   "cell_type": "code",
   "execution_count": 24,
   "id": "27117df8",
   "metadata": {
    "execution": {
     "iopub.execute_input": "2021-09-24T12:06:30.254872Z",
     "iopub.status.busy": "2021-09-24T12:06:30.254190Z",
     "iopub.status.idle": "2021-09-24T15:47:23.789911Z",
     "shell.execute_reply": "2021-09-24T15:47:23.789151Z"
    },
    "papermill": {
     "duration": 13253.566222,
     "end_time": "2021-09-24T15:47:23.790100",
     "exception": false,
     "start_time": "2021-09-24T12:06:30.223878",
     "status": "completed"
    },
    "tags": []
   },
   "outputs": [],
   "source": [
    "from sklearn.svm import SVC\n",
    "svclassifier = SVC(kernel='sigmoid')\n",
    "svclassifier.fit(x_train, y_train)\n",
    "svmsigpred = svclassifier.predict(x_test)"
   ]
  },
  {
   "cell_type": "code",
   "execution_count": 25,
   "id": "242b1a77",
   "metadata": {
    "execution": {
     "iopub.execute_input": "2021-09-24T15:47:23.850482Z",
     "iopub.status.busy": "2021-09-24T15:47:23.849872Z",
     "iopub.status.idle": "2021-09-24T15:47:24.070557Z",
     "shell.execute_reply": "2021-09-24T15:47:24.070046Z"
    },
    "papermill": {
     "duration": 0.256337,
     "end_time": "2021-09-24T15:47:24.070716",
     "exception": false,
     "start_time": "2021-09-24T15:47:23.814379",
     "status": "completed"
    },
    "tags": []
   },
   "outputs": [
    {
     "name": "stdout",
     "output_type": "stream",
     "text": [
      "[[5921  187  264  167 8461]\n",
      " [8055  430   71  110 6334]\n",
      " [5623  202 1175  574 7426]\n",
      " [2295    0  254 5461 6990]\n",
      " [8850    0   17   12 6121]]\n",
      "              precision    recall  f1-score   support\n",
      "\n",
      "         0.0       0.19      0.39      0.26     15000\n",
      "         1.0       0.53      0.03      0.05     15000\n",
      "         2.0       0.66      0.08      0.14     15000\n",
      "         3.0       0.86      0.36      0.51     15000\n",
      "         4.0       0.17      0.41      0.24     15000\n",
      "\n",
      "    accuracy                           0.25     75000\n",
      "   macro avg       0.48      0.25      0.24     75000\n",
      "weighted avg       0.48      0.25      0.24     75000\n",
      "\n",
      "Accuracy of SVM: 0.25477333333333335\n",
      "Sensitivity of  Non-ecotic beats (normal beat)  0.3947333333333333\n",
      "Specificity of  Non-ecotic beats (normal beat)  0.21978333333333333\n",
      "Sensitivity of  Supraventricular ectopic beats  0.028666666666666667\n",
      "Specificity of  Supraventricular ectopic beats  0.3113\n",
      "Sensitivity of  Ventricular ectopic beats   0.07833333333333334\n",
      "Specificity of  Ventricular ectopic beats  0.29888333333333333\n",
      "Sensitivity of  Fusion Beats  0.36406666666666665\n",
      "Specificity of  Fusion Beats  0.22745\n",
      "Sensitivity of  Unknown Beats  0.4080666666666667\n",
      "Specificity of  Unknown Beats  0.21645\n"
     ]
    }
   ],
   "source": [
    "from sklearn import metrics\n",
    "svmsigconfusion = metrics.confusion_matrix(y_test, svmsigpred)\n",
    "print(svmsigconfusion)\n",
    "print(metrics.classification_report(y_test, svmsigpred))\n",
    "svmsigaccuracy = metrics.accuracy_score(y_test, svmsigpred)\n",
    "print(\"Accuracy of SVM:\",svmsigaccuracy)\n",
    "speci(svmsigconfusion)"
   ]
  },
  {
   "cell_type": "code",
   "execution_count": 26,
   "id": "10774be4",
   "metadata": {
    "execution": {
     "iopub.execute_input": "2021-09-24T15:47:24.121715Z",
     "iopub.status.busy": "2021-09-24T15:47:24.121114Z",
     "iopub.status.idle": "2021-09-24T15:47:26.044483Z",
     "shell.execute_reply": "2021-09-24T15:47:26.044946Z"
    },
    "papermill": {
     "duration": 1.951392,
     "end_time": "2021-09-24T15:47:26.045132",
     "exception": false,
     "start_time": "2021-09-24T15:47:24.093740",
     "status": "completed"
    },
    "tags": []
   },
   "outputs": [],
   "source": [
    "from sklearn.naive_bayes import GaussianNB\n",
    "gnb = GaussianNB()\n",
    "gnb.fit(x_train, y_train)\n",
    "nbpred = gnb.predict(x_test)"
   ]
  },
  {
   "cell_type": "code",
   "execution_count": 27,
   "id": "c21eaed8",
   "metadata": {
    "execution": {
     "iopub.execute_input": "2021-09-24T15:47:26.097535Z",
     "iopub.status.busy": "2021-09-24T15:47:26.096623Z",
     "iopub.status.idle": "2021-09-24T15:47:26.298081Z",
     "shell.execute_reply": "2021-09-24T15:47:26.297471Z"
    },
    "papermill": {
     "duration": 0.230173,
     "end_time": "2021-09-24T15:47:26.298215",
     "exception": false,
     "start_time": "2021-09-24T15:47:26.068042",
     "status": "completed"
    },
    "tags": []
   },
   "outputs": [
    {
     "name": "stdout",
     "output_type": "stream",
     "text": [
      "[[ 1699    56   946   526 11773]\n",
      " [ 1123  2157   890   580 10250]\n",
      " [ 1250    82  2966   153 10549]\n",
      " [    0     0    85  6632  8283]\n",
      " [   11     0    39    30 14920]]\n",
      "              precision    recall  f1-score   support\n",
      "\n",
      "         0.0       0.42      0.11      0.18     15000\n",
      "         1.0       0.94      0.14      0.25     15000\n",
      "         2.0       0.60      0.20      0.30     15000\n",
      "         3.0       0.84      0.44      0.58     15000\n",
      "         4.0       0.27      0.99      0.42     15000\n",
      "\n",
      "    accuracy                           0.38     75000\n",
      "   macro avg       0.61      0.38      0.35     75000\n",
      "weighted avg       0.61      0.38      0.35     75000\n",
      "\n",
      "Accuracy of NaiveBayes: 0.37832\n",
      "Sensitivity of  Non-ecotic beats (normal beat)  0.11326666666666667\n",
      "Specificity of  Non-ecotic beats (normal beat)  0.44458333333333333\n",
      "Sensitivity of  Supraventricular ectopic beats  0.1438\n",
      "Specificity of  Supraventricular ectopic beats  0.43695\n",
      "Sensitivity of  Ventricular ectopic beats   0.19773333333333334\n",
      "Specificity of  Ventricular ectopic beats  0.42346666666666666\n",
      "Sensitivity of  Fusion Beats  0.4421333333333333\n",
      "Specificity of  Fusion Beats  0.36236666666666667\n",
      "Sensitivity of  Unknown Beats  0.9946666666666667\n",
      "Specificity of  Unknown Beats  0.22423333333333334\n"
     ]
    }
   ],
   "source": [
    "from sklearn import metrics\n",
    "nbconfusion = metrics.confusion_matrix(y_test, nbpred)\n",
    "print(nbconfusion)\n",
    "print(metrics.classification_report(y_test, nbpred))\n",
    "nbaccuracy = metrics.accuracy_score(y_test, nbpred)\n",
    "print(\"Accuracy of NaiveBayes:\",nbaccuracy)\n",
    "speci(nbconfusion)"
   ]
  },
  {
   "cell_type": "code",
   "execution_count": 28,
   "id": "25f2cc4c",
   "metadata": {
    "execution": {
     "iopub.execute_input": "2021-09-24T15:47:26.348935Z",
     "iopub.status.busy": "2021-09-24T15:47:26.348315Z",
     "iopub.status.idle": "2021-09-24T15:49:48.731417Z",
     "shell.execute_reply": "2021-09-24T15:49:48.730815Z"
    },
    "papermill": {
     "duration": 142.410463,
     "end_time": "2021-09-24T15:49:48.731567",
     "exception": false,
     "start_time": "2021-09-24T15:47:26.321104",
     "status": "completed"
    },
    "tags": []
   },
   "outputs": [],
   "source": [
    "from sklearn.ensemble import RandomForestClassifier\n",
    "rfc= RandomForestClassifier()\n",
    "rfc.fit(x_train, y_train)\n",
    "rfcpred = rfc.predict(x_test)"
   ]
  },
  {
   "cell_type": "code",
   "execution_count": 29,
   "id": "a983a5c3",
   "metadata": {
    "execution": {
     "iopub.execute_input": "2021-09-24T15:49:48.784389Z",
     "iopub.status.busy": "2021-09-24T15:49:48.783790Z",
     "iopub.status.idle": "2021-09-24T15:49:48.985100Z",
     "shell.execute_reply": "2021-09-24T15:49:48.985549Z"
    },
    "papermill": {
     "duration": 0.230852,
     "end_time": "2021-09-24T15:49:48.985726",
     "exception": false,
     "start_time": "2021-09-24T15:49:48.754874",
     "status": "completed"
    },
    "tags": []
   },
   "outputs": [
    {
     "name": "stdout",
     "output_type": "stream",
     "text": [
      "[[14921    34    28    10     7]\n",
      " [ 4286 10661    30     0    23]\n",
      " [  884     9 13857   173    77]\n",
      " [ 3395     0  1452 10153     0]\n",
      " [  541     0    27     0 14432]]\n",
      "              precision    recall  f1-score   support\n",
      "\n",
      "         0.0       0.62      0.99      0.76     15000\n",
      "         1.0       1.00      0.71      0.83     15000\n",
      "         2.0       0.90      0.92      0.91     15000\n",
      "         3.0       0.98      0.68      0.80     15000\n",
      "         4.0       0.99      0.96      0.98     15000\n",
      "\n",
      "    accuracy                           0.85     75000\n",
      "   macro avg       0.90      0.85      0.86     75000\n",
      "weighted avg       0.90      0.85      0.86     75000\n",
      "\n",
      "Accuracy of Randomforest: 0.8536533333333334\n",
      "Sensitivity of  Non-ecotic beats (normal beat)  0.9947333333333334\n",
      "Specificity of  Non-ecotic beats (normal beat)  0.8183833333333334\n",
      "Sensitivity of  Supraventricular ectopic beats  0.7107333333333333\n",
      "Specificity of  Supraventricular ectopic beats  0.8893833333333333\n",
      "Sensitivity of  Ventricular ectopic beats   0.9238\n",
      "Specificity of  Ventricular ectopic beats  0.8361166666666666\n",
      "Sensitivity of  Fusion Beats  0.6768666666666666\n",
      "Specificity of  Fusion Beats  0.89785\n",
      "Sensitivity of  Unknown Beats  0.9621333333333333\n",
      "Specificity of  Unknown Beats  0.8265333333333333\n"
     ]
    }
   ],
   "source": [
    "rfcconfusion = metrics.confusion_matrix(y_test, rfcpred)\n",
    "print(rfcconfusion)\n",
    "print(metrics.classification_report(y_test, rfcpred))\n",
    "rfcaccuracy = metrics.accuracy_score(y_test, rfcpred)\n",
    "print(\"Accuracy of Randomforest:\",rfcaccuracy)\n",
    "speci(rfcconfusion)\n"
   ]
  },
  {
   "cell_type": "code",
   "execution_count": 30,
   "id": "330b2ec4",
   "metadata": {
    "execution": {
     "iopub.execute_input": "2021-09-24T15:49:49.035259Z",
     "iopub.status.busy": "2021-09-24T15:49:49.034718Z",
     "iopub.status.idle": "2021-09-24T15:50:28.453528Z",
     "shell.execute_reply": "2021-09-24T15:50:28.454059Z"
    },
    "papermill": {
     "duration": 39.445183,
     "end_time": "2021-09-24T15:50:28.454245",
     "exception": false,
     "start_time": "2021-09-24T15:49:49.009062",
     "status": "completed"
    },
    "tags": []
   },
   "outputs": [],
   "source": [
    "from sklearn import metrics\n",
    "from sklearn.tree import DecisionTreeClassifier\n",
    "dt = DecisionTreeClassifier()\n",
    "dt.fit(x_train,y_train)\n",
    "dtpred = dt.predict(x_test)"
   ]
  },
  {
   "cell_type": "code",
   "execution_count": 31,
   "id": "06f73a9e",
   "metadata": {
    "execution": {
     "iopub.execute_input": "2021-09-24T15:50:28.504690Z",
     "iopub.status.busy": "2021-09-24T15:50:28.504115Z",
     "iopub.status.idle": "2021-09-24T15:50:28.708012Z",
     "shell.execute_reply": "2021-09-24T15:50:28.707409Z"
    },
    "papermill": {
     "duration": 0.229908,
     "end_time": "2021-09-24T15:50:28.708145",
     "exception": false,
     "start_time": "2021-09-24T15:50:28.478237",
     "status": "completed"
    },
    "tags": []
   },
   "outputs": [
    {
     "name": "stdout",
     "output_type": "stream",
     "text": [
      "[[14432   251   182    46    89]\n",
      " [ 4192 10447   243    43    75]\n",
      " [ 1154   108 13364   237   137]\n",
      " [ 3108     0  1823 10069     0]\n",
      " [  674     8    95    10 14213]]\n",
      "              precision    recall  f1-score   support\n",
      "\n",
      "         0.0       0.61      0.96      0.75     15000\n",
      "         1.0       0.97      0.70      0.81     15000\n",
      "         2.0       0.85      0.89      0.87     15000\n",
      "         3.0       0.97      0.67      0.79     15000\n",
      "         4.0       0.98      0.95      0.96     15000\n",
      "\n",
      "    accuracy                           0.83     75000\n",
      "   macro avg       0.88      0.83      0.84     75000\n",
      "weighted avg       0.88      0.83      0.84     75000\n",
      "\n",
      "Accuracy of decision tree: 0.8336666666666667\n",
      "Sensitivity of  Non-ecotic beats (normal beat)  0.9621333333333333\n",
      "Specificity of  Non-ecotic beats (normal beat)  0.80155\n",
      "Sensitivity of  Supraventricular ectopic beats  0.6964666666666667\n",
      "Specificity of  Supraventricular ectopic beats  0.8679666666666667\n",
      "Sensitivity of  Ventricular ectopic beats   0.8909333333333334\n",
      "Specificity of  Ventricular ectopic beats  0.81935\n",
      "Sensitivity of  Fusion Beats  0.6712666666666667\n",
      "Specificity of  Fusion Beats  0.8742666666666666\n",
      "Sensitivity of  Unknown Beats  0.9475333333333333\n",
      "Specificity of  Unknown Beats  0.8052\n"
     ]
    }
   ],
   "source": [
    "dtconfusion = metrics.confusion_matrix(y_test, dtpred)\n",
    "print(dtconfusion)\n",
    "print(metrics.classification_report(y_test, dtpred))\n",
    "dtaccuracy = metrics.accuracy_score(y_test, dtpred)\n",
    "print(\"Accuracy of decision tree:\",dtaccuracy)\n",
    "speci(dtconfusion)"
   ]
  }
 ],
 "metadata": {
  "kernelspec": {
   "display_name": "Python 3",
   "language": "python",
   "name": "python3"
  },
  "language_info": {
   "codemirror_mode": {
    "name": "ipython",
    "version": 3
   },
   "file_extension": ".py",
   "mimetype": "text/x-python",
   "name": "python",
   "nbconvert_exporter": "python",
   "pygments_lexer": "ipython3",
   "version": "3.7.10"
  },
  "papermill": {
   "default_parameters": {},
   "duration": 23519.124909,
   "end_time": "2021-09-24T15:50:31.917059",
   "environment_variables": {},
   "exception": null,
   "input_path": "__notebook__.ipynb",
   "output_path": "__notebook__.ipynb",
   "parameters": {},
   "start_time": "2021-09-24T09:18:32.792150",
   "version": "2.3.3"
  }
 },
 "nbformat": 4,
 "nbformat_minor": 5
}
